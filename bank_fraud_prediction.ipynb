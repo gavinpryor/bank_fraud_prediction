{
 "cells": [
  {
   "cell_type": "markdown",
   "id": "39e31a55",
   "metadata": {},
   "source": [
    "## Question: What is the likelihood that a customer of a bank will commit fraud?\n",
    "\n",
    "+ Dataset: <https://www.kaggle.com/datasets/sgpjesus/bank-account-fraud-dataset-neurips-2022/>"
   ]
  },
  {
   "cell_type": "code",
   "execution_count": 29,
   "id": "025552a8",
   "metadata": {},
   "outputs": [],
   "source": [
    "import os\n",
    "\n",
    "import pandas as pd\n",
    "import numpy as np\n",
    "import seaborn as sns"
   ]
  },
  {
   "cell_type": "code",
   "execution_count": 2,
   "id": "c4e43ea6",
   "metadata": {},
   "outputs": [
    {
     "data": {
      "text/plain": [
       "'C:\\\\Users\\\\gavin\\\\OneDrive\\\\Desktop\\\\Data Science Resources\\\\BA2'"
      ]
     },
     "execution_count": 2,
     "metadata": {},
     "output_type": "execute_result"
    }
   ],
   "source": [
    "os.getcwd()"
   ]
  },
  {
   "cell_type": "code",
   "execution_count": 3,
   "id": "10ebda8d",
   "metadata": {},
   "outputs": [],
   "source": [
    "data = pd.read_csv(\"Base.csv\")"
   ]
  },
  {
   "cell_type": "code",
   "execution_count": 4,
   "id": "52b1f71a",
   "metadata": {},
   "outputs": [],
   "source": [
    "pd.set_option('display.max_columns' ,32)\n",
    "pd.set_option('display.max_rows', 50)"
   ]
  },
  {
   "cell_type": "code",
   "execution_count": 5,
   "id": "61de30bb",
   "metadata": {},
   "outputs": [
    {
     "data": {
      "text/html": [
       "<div>\n",
       "<style scoped>\n",
       "    .dataframe tbody tr th:only-of-type {\n",
       "        vertical-align: middle;\n",
       "    }\n",
       "\n",
       "    .dataframe tbody tr th {\n",
       "        vertical-align: top;\n",
       "    }\n",
       "\n",
       "    .dataframe thead th {\n",
       "        text-align: right;\n",
       "    }\n",
       "</style>\n",
       "<table border=\"1\" class=\"dataframe\">\n",
       "  <thead>\n",
       "    <tr style=\"text-align: right;\">\n",
       "      <th></th>\n",
       "      <th>fraud_bool</th>\n",
       "      <th>income</th>\n",
       "      <th>name_email_similarity</th>\n",
       "      <th>prev_address_months_count</th>\n",
       "      <th>current_address_months_count</th>\n",
       "      <th>customer_age</th>\n",
       "      <th>days_since_request</th>\n",
       "      <th>intended_balcon_amount</th>\n",
       "      <th>payment_type</th>\n",
       "      <th>zip_count_4w</th>\n",
       "      <th>velocity_6h</th>\n",
       "      <th>velocity_24h</th>\n",
       "      <th>velocity_4w</th>\n",
       "      <th>bank_branch_count_8w</th>\n",
       "      <th>date_of_birth_distinct_emails_4w</th>\n",
       "      <th>employment_status</th>\n",
       "      <th>credit_risk_score</th>\n",
       "      <th>email_is_free</th>\n",
       "      <th>housing_status</th>\n",
       "      <th>phone_home_valid</th>\n",
       "      <th>phone_mobile_valid</th>\n",
       "      <th>bank_months_count</th>\n",
       "      <th>has_other_cards</th>\n",
       "      <th>proposed_credit_limit</th>\n",
       "      <th>foreign_request</th>\n",
       "      <th>source</th>\n",
       "      <th>session_length_in_minutes</th>\n",
       "      <th>device_os</th>\n",
       "      <th>keep_alive_session</th>\n",
       "      <th>device_distinct_emails_8w</th>\n",
       "      <th>device_fraud_count</th>\n",
       "      <th>month</th>\n",
       "    </tr>\n",
       "  </thead>\n",
       "  <tbody>\n",
       "    <tr>\n",
       "      <th>0</th>\n",
       "      <td>0</td>\n",
       "      <td>0.3</td>\n",
       "      <td>0.986506</td>\n",
       "      <td>-1</td>\n",
       "      <td>25</td>\n",
       "      <td>40</td>\n",
       "      <td>0.006735</td>\n",
       "      <td>102.453711</td>\n",
       "      <td>AA</td>\n",
       "      <td>1059</td>\n",
       "      <td>13096.035018</td>\n",
       "      <td>7850.955007</td>\n",
       "      <td>6742.080561</td>\n",
       "      <td>5</td>\n",
       "      <td>5</td>\n",
       "      <td>CB</td>\n",
       "      <td>163</td>\n",
       "      <td>1</td>\n",
       "      <td>BC</td>\n",
       "      <td>0</td>\n",
       "      <td>1</td>\n",
       "      <td>9</td>\n",
       "      <td>0</td>\n",
       "      <td>1500.0</td>\n",
       "      <td>0</td>\n",
       "      <td>INTERNET</td>\n",
       "      <td>16.224843</td>\n",
       "      <td>linux</td>\n",
       "      <td>1</td>\n",
       "      <td>1</td>\n",
       "      <td>0</td>\n",
       "      <td>0</td>\n",
       "    </tr>\n",
       "    <tr>\n",
       "      <th>1</th>\n",
       "      <td>0</td>\n",
       "      <td>0.8</td>\n",
       "      <td>0.617426</td>\n",
       "      <td>-1</td>\n",
       "      <td>89</td>\n",
       "      <td>20</td>\n",
       "      <td>0.010095</td>\n",
       "      <td>-0.849551</td>\n",
       "      <td>AD</td>\n",
       "      <td>1658</td>\n",
       "      <td>9223.283431</td>\n",
       "      <td>5745.251481</td>\n",
       "      <td>5941.664859</td>\n",
       "      <td>3</td>\n",
       "      <td>18</td>\n",
       "      <td>CA</td>\n",
       "      <td>154</td>\n",
       "      <td>1</td>\n",
       "      <td>BC</td>\n",
       "      <td>1</td>\n",
       "      <td>1</td>\n",
       "      <td>2</td>\n",
       "      <td>0</td>\n",
       "      <td>1500.0</td>\n",
       "      <td>0</td>\n",
       "      <td>INTERNET</td>\n",
       "      <td>3.363854</td>\n",
       "      <td>other</td>\n",
       "      <td>1</td>\n",
       "      <td>1</td>\n",
       "      <td>0</td>\n",
       "      <td>0</td>\n",
       "    </tr>\n",
       "    <tr>\n",
       "      <th>2</th>\n",
       "      <td>0</td>\n",
       "      <td>0.8</td>\n",
       "      <td>0.996707</td>\n",
       "      <td>9</td>\n",
       "      <td>14</td>\n",
       "      <td>40</td>\n",
       "      <td>0.012316</td>\n",
       "      <td>-1.490386</td>\n",
       "      <td>AB</td>\n",
       "      <td>1095</td>\n",
       "      <td>4471.472149</td>\n",
       "      <td>5471.988958</td>\n",
       "      <td>5992.555113</td>\n",
       "      <td>15</td>\n",
       "      <td>11</td>\n",
       "      <td>CA</td>\n",
       "      <td>89</td>\n",
       "      <td>1</td>\n",
       "      <td>BC</td>\n",
       "      <td>0</td>\n",
       "      <td>1</td>\n",
       "      <td>30</td>\n",
       "      <td>0</td>\n",
       "      <td>200.0</td>\n",
       "      <td>0</td>\n",
       "      <td>INTERNET</td>\n",
       "      <td>22.730559</td>\n",
       "      <td>windows</td>\n",
       "      <td>0</td>\n",
       "      <td>1</td>\n",
       "      <td>0</td>\n",
       "      <td>0</td>\n",
       "    </tr>\n",
       "    <tr>\n",
       "      <th>3</th>\n",
       "      <td>0</td>\n",
       "      <td>0.6</td>\n",
       "      <td>0.475100</td>\n",
       "      <td>11</td>\n",
       "      <td>14</td>\n",
       "      <td>30</td>\n",
       "      <td>0.006991</td>\n",
       "      <td>-1.863101</td>\n",
       "      <td>AB</td>\n",
       "      <td>3483</td>\n",
       "      <td>14431.993621</td>\n",
       "      <td>6755.344479</td>\n",
       "      <td>5970.336831</td>\n",
       "      <td>11</td>\n",
       "      <td>13</td>\n",
       "      <td>CA</td>\n",
       "      <td>90</td>\n",
       "      <td>1</td>\n",
       "      <td>BC</td>\n",
       "      <td>0</td>\n",
       "      <td>1</td>\n",
       "      <td>1</td>\n",
       "      <td>0</td>\n",
       "      <td>200.0</td>\n",
       "      <td>0</td>\n",
       "      <td>INTERNET</td>\n",
       "      <td>15.215816</td>\n",
       "      <td>linux</td>\n",
       "      <td>1</td>\n",
       "      <td>1</td>\n",
       "      <td>0</td>\n",
       "      <td>0</td>\n",
       "    </tr>\n",
       "    <tr>\n",
       "      <th>4</th>\n",
       "      <td>0</td>\n",
       "      <td>0.9</td>\n",
       "      <td>0.842307</td>\n",
       "      <td>-1</td>\n",
       "      <td>29</td>\n",
       "      <td>40</td>\n",
       "      <td>5.742626</td>\n",
       "      <td>47.152498</td>\n",
       "      <td>AA</td>\n",
       "      <td>2339</td>\n",
       "      <td>7601.511579</td>\n",
       "      <td>5124.046930</td>\n",
       "      <td>5940.734212</td>\n",
       "      <td>1</td>\n",
       "      <td>6</td>\n",
       "      <td>CA</td>\n",
       "      <td>91</td>\n",
       "      <td>0</td>\n",
       "      <td>BC</td>\n",
       "      <td>1</td>\n",
       "      <td>1</td>\n",
       "      <td>26</td>\n",
       "      <td>0</td>\n",
       "      <td>200.0</td>\n",
       "      <td>0</td>\n",
       "      <td>INTERNET</td>\n",
       "      <td>3.743048</td>\n",
       "      <td>other</td>\n",
       "      <td>0</td>\n",
       "      <td>1</td>\n",
       "      <td>0</td>\n",
       "      <td>0</td>\n",
       "    </tr>\n",
       "  </tbody>\n",
       "</table>\n",
       "</div>"
      ],
      "text/plain": [
       "   fraud_bool  income  name_email_similarity  prev_address_months_count  \\\n",
       "0           0     0.3               0.986506                         -1   \n",
       "1           0     0.8               0.617426                         -1   \n",
       "2           0     0.8               0.996707                          9   \n",
       "3           0     0.6               0.475100                         11   \n",
       "4           0     0.9               0.842307                         -1   \n",
       "\n",
       "   current_address_months_count  customer_age  days_since_request  \\\n",
       "0                            25            40            0.006735   \n",
       "1                            89            20            0.010095   \n",
       "2                            14            40            0.012316   \n",
       "3                            14            30            0.006991   \n",
       "4                            29            40            5.742626   \n",
       "\n",
       "   intended_balcon_amount payment_type  zip_count_4w   velocity_6h  \\\n",
       "0              102.453711           AA          1059  13096.035018   \n",
       "1               -0.849551           AD          1658   9223.283431   \n",
       "2               -1.490386           AB          1095   4471.472149   \n",
       "3               -1.863101           AB          3483  14431.993621   \n",
       "4               47.152498           AA          2339   7601.511579   \n",
       "\n",
       "   velocity_24h  velocity_4w  bank_branch_count_8w  \\\n",
       "0   7850.955007  6742.080561                     5   \n",
       "1   5745.251481  5941.664859                     3   \n",
       "2   5471.988958  5992.555113                    15   \n",
       "3   6755.344479  5970.336831                    11   \n",
       "4   5124.046930  5940.734212                     1   \n",
       "\n",
       "   date_of_birth_distinct_emails_4w employment_status  credit_risk_score  \\\n",
       "0                                 5                CB                163   \n",
       "1                                18                CA                154   \n",
       "2                                11                CA                 89   \n",
       "3                                13                CA                 90   \n",
       "4                                 6                CA                 91   \n",
       "\n",
       "   email_is_free housing_status  phone_home_valid  phone_mobile_valid  \\\n",
       "0              1             BC                 0                   1   \n",
       "1              1             BC                 1                   1   \n",
       "2              1             BC                 0                   1   \n",
       "3              1             BC                 0                   1   \n",
       "4              0             BC                 1                   1   \n",
       "\n",
       "   bank_months_count  has_other_cards  proposed_credit_limit  foreign_request  \\\n",
       "0                  9                0                 1500.0                0   \n",
       "1                  2                0                 1500.0                0   \n",
       "2                 30                0                  200.0                0   \n",
       "3                  1                0                  200.0                0   \n",
       "4                 26                0                  200.0                0   \n",
       "\n",
       "     source  session_length_in_minutes device_os  keep_alive_session  \\\n",
       "0  INTERNET                  16.224843     linux                   1   \n",
       "1  INTERNET                   3.363854     other                   1   \n",
       "2  INTERNET                  22.730559   windows                   0   \n",
       "3  INTERNET                  15.215816     linux                   1   \n",
       "4  INTERNET                   3.743048     other                   0   \n",
       "\n",
       "   device_distinct_emails_8w  device_fraud_count  month  \n",
       "0                          1                   0      0  \n",
       "1                          1                   0      0  \n",
       "2                          1                   0      0  \n",
       "3                          1                   0      0  \n",
       "4                          1                   0      0  "
      ]
     },
     "execution_count": 5,
     "metadata": {},
     "output_type": "execute_result"
    }
   ],
   "source": [
    "data.head()"
   ]
  },
  {
   "cell_type": "markdown",
   "id": "0af74129",
   "metadata": {},
   "source": [
    "## Data Exploration and Cleaning\n",
    "Here I looked at the datatypes for each column, checked for nulls, and attempt to get a better sense of the data to prepare for preprocessing/model building. A lot of the datasets on kaggle are made specifically for practicing model building, so I realized that the dataset I ended up using was already cleaned and did not have any nulls in it. However, this is where I noticed that there was an extremely high class imbalance. Our dataset had 1 million rows, but only 11029 of them were 1s (instances of fraud). This can lead to the models severely overfitting, so I had to think of a way to account for that. Before I tackled that problem, I split the data into training and test sets."
   ]
  },
  {
   "cell_type": "code",
   "execution_count": 6,
   "id": "6294dfdd",
   "metadata": {
    "scrolled": true
   },
   "outputs": [
    {
     "name": "stdout",
     "output_type": "stream",
     "text": [
      "<class 'pandas.core.frame.DataFrame'>\n",
      "RangeIndex: 1000000 entries, 0 to 999999\n",
      "Data columns (total 32 columns):\n",
      " #   Column                            Non-Null Count    Dtype  \n",
      "---  ------                            --------------    -----  \n",
      " 0   fraud_bool                        1000000 non-null  int64  \n",
      " 1   income                            1000000 non-null  float64\n",
      " 2   name_email_similarity             1000000 non-null  float64\n",
      " 3   prev_address_months_count         1000000 non-null  int64  \n",
      " 4   current_address_months_count      1000000 non-null  int64  \n",
      " 5   customer_age                      1000000 non-null  int64  \n",
      " 6   days_since_request                1000000 non-null  float64\n",
      " 7   intended_balcon_amount            1000000 non-null  float64\n",
      " 8   payment_type                      1000000 non-null  object \n",
      " 9   zip_count_4w                      1000000 non-null  int64  \n",
      " 10  velocity_6h                       1000000 non-null  float64\n",
      " 11  velocity_24h                      1000000 non-null  float64\n",
      " 12  velocity_4w                       1000000 non-null  float64\n",
      " 13  bank_branch_count_8w              1000000 non-null  int64  \n",
      " 14  date_of_birth_distinct_emails_4w  1000000 non-null  int64  \n",
      " 15  employment_status                 1000000 non-null  object \n",
      " 16  credit_risk_score                 1000000 non-null  int64  \n",
      " 17  email_is_free                     1000000 non-null  int64  \n",
      " 18  housing_status                    1000000 non-null  object \n",
      " 19  phone_home_valid                  1000000 non-null  int64  \n",
      " 20  phone_mobile_valid                1000000 non-null  int64  \n",
      " 21  bank_months_count                 1000000 non-null  int64  \n",
      " 22  has_other_cards                   1000000 non-null  int64  \n",
      " 23  proposed_credit_limit             1000000 non-null  float64\n",
      " 24  foreign_request                   1000000 non-null  int64  \n",
      " 25  source                            1000000 non-null  object \n",
      " 26  session_length_in_minutes         1000000 non-null  float64\n",
      " 27  device_os                         1000000 non-null  object \n",
      " 28  keep_alive_session                1000000 non-null  int64  \n",
      " 29  device_distinct_emails_8w         1000000 non-null  int64  \n",
      " 30  device_fraud_count                1000000 non-null  int64  \n",
      " 31  month                             1000000 non-null  int64  \n",
      "dtypes: float64(9), int64(18), object(5)\n",
      "memory usage: 244.1+ MB\n"
     ]
    }
   ],
   "source": [
    "data.info()"
   ]
  },
  {
   "cell_type": "code",
   "execution_count": 7,
   "id": "4987a4e3",
   "metadata": {
    "scrolled": true
   },
   "outputs": [
    {
     "data": {
      "text/plain": [
       "fraud_bool\n",
       "0    988971\n",
       "1     11029\n",
       "Name: count, dtype: int64"
      ]
     },
     "execution_count": 7,
     "metadata": {},
     "output_type": "execute_result"
    }
   ],
   "source": [
    "# check for class imbalance\n",
    "data['fraud_bool'].value_counts()"
   ]
  },
  {
   "cell_type": "code",
   "execution_count": 8,
   "id": "c69dd6b4",
   "metadata": {
    "scrolled": true
   },
   "outputs": [
    {
     "name": "stdout",
     "output_type": "stream",
     "text": [
      "Column: fraud_bool\n",
      "Nulls: 0\n",
      "------------------------------\n",
      "Column: income\n",
      "Nulls: 0\n",
      "------------------------------\n",
      "Column: name_email_similarity\n",
      "Nulls: 0\n",
      "------------------------------\n",
      "Column: prev_address_months_count\n",
      "Nulls: 0\n",
      "------------------------------\n",
      "Column: current_address_months_count\n",
      "Nulls: 0\n",
      "------------------------------\n",
      "Column: customer_age\n",
      "Nulls: 0\n",
      "------------------------------\n",
      "Column: days_since_request\n",
      "Nulls: 0\n",
      "------------------------------\n",
      "Column: intended_balcon_amount\n",
      "Nulls: 0\n",
      "------------------------------\n",
      "Column: payment_type\n",
      "Nulls: 0\n",
      "------------------------------\n",
      "Column: zip_count_4w\n",
      "Nulls: 0\n",
      "------------------------------\n",
      "Column: velocity_6h\n",
      "Nulls: 0\n",
      "------------------------------\n",
      "Column: velocity_24h\n",
      "Nulls: 0\n",
      "------------------------------\n",
      "Column: velocity_4w\n",
      "Nulls: 0\n",
      "------------------------------\n",
      "Column: bank_branch_count_8w\n",
      "Nulls: 0\n",
      "------------------------------\n",
      "Column: date_of_birth_distinct_emails_4w\n",
      "Nulls: 0\n",
      "------------------------------\n",
      "Column: employment_status\n",
      "Nulls: 0\n",
      "------------------------------\n",
      "Column: credit_risk_score\n",
      "Nulls: 0\n",
      "------------------------------\n",
      "Column: email_is_free\n",
      "Nulls: 0\n",
      "------------------------------\n",
      "Column: housing_status\n",
      "Nulls: 0\n",
      "------------------------------\n",
      "Column: phone_home_valid\n",
      "Nulls: 0\n",
      "------------------------------\n",
      "Column: phone_mobile_valid\n",
      "Nulls: 0\n",
      "------------------------------\n",
      "Column: bank_months_count\n",
      "Nulls: 0\n",
      "------------------------------\n",
      "Column: has_other_cards\n",
      "Nulls: 0\n",
      "------------------------------\n",
      "Column: proposed_credit_limit\n",
      "Nulls: 0\n",
      "------------------------------\n",
      "Column: foreign_request\n",
      "Nulls: 0\n",
      "------------------------------\n",
      "Column: source\n",
      "Nulls: 0\n",
      "------------------------------\n",
      "Column: session_length_in_minutes\n",
      "Nulls: 0\n",
      "------------------------------\n",
      "Column: device_os\n",
      "Nulls: 0\n",
      "------------------------------\n",
      "Column: keep_alive_session\n",
      "Nulls: 0\n",
      "------------------------------\n",
      "Column: device_distinct_emails_8w\n",
      "Nulls: 0\n",
      "------------------------------\n",
      "Column: device_fraud_count\n",
      "Nulls: 0\n",
      "------------------------------\n",
      "Column: month\n",
      "Nulls: 0\n",
      "------------------------------\n"
     ]
    }
   ],
   "source": [
    "# check for nulls\n",
    "\n",
    "for column in data.columns:\n",
    "    # Print column name\n",
    "    print(f\"Column: {column}\")\n",
    "    \n",
    "    # Print the number of nulls\n",
    "    null_count = data[column].isnull().sum()\n",
    "    print(f\"Nulls: {null_count}\")\n",
    "    \n",
    "    print(\"-\" * 30)"
   ]
  },
  {
   "cell_type": "markdown",
   "id": "82f77d39",
   "metadata": {},
   "source": [
    "#### Correlation Matrix\n",
    "Used to see what variables are initially correlated with the fraud_bool variable in order to get a better initial sense of the data"
   ]
  },
  {
   "cell_type": "code",
   "execution_count": 9,
   "id": "237b5ceb",
   "metadata": {},
   "outputs": [
    {
     "name": "stdout",
     "output_type": "stream",
     "text": [
      "fraud_bool                          1.000000\n",
      "credit_risk_score                   0.070624\n",
      "proposed_credit_limit               0.068907\n",
      "customer_age                        0.062959\n",
      "income                              0.045079\n",
      "device_distinct_emails_8w           0.035704\n",
      "current_address_months_count        0.033701\n",
      "email_is_free                       0.027758\n",
      "foreign_request                     0.016885\n",
      "month                               0.013250\n",
      "session_length_in_minutes           0.008999\n",
      "zip_count_4w                        0.005212\n",
      "days_since_request                  0.000567\n",
      "bank_months_count                  -0.003222\n",
      "velocity_24h                       -0.011183\n",
      "velocity_4w                        -0.011536\n",
      "bank_branch_count_8w               -0.011577\n",
      "phone_mobile_valid                 -0.013180\n",
      "velocity_6h                        -0.016892\n",
      "intended_balcon_amount             -0.024524\n",
      "prev_address_months_count          -0.026031\n",
      "phone_home_valid                   -0.035128\n",
      "has_other_cards                    -0.035156\n",
      "name_email_similarity              -0.036720\n",
      "date_of_birth_distinct_emails_4w   -0.043224\n",
      "keep_alive_session                 -0.050296\n",
      "device_fraud_count                       NaN\n",
      "Name: fraud_bool, dtype: float64\n"
     ]
    }
   ],
   "source": [
    "# corr matrix\n",
    "pd.set_option('display.max_rows', None)\n",
    "correlation_matrix = data.corr(numeric_only=True)\n",
    "target_correlation = correlation_matrix['fraud_bool'].sort_values(ascending=False)\n",
    "print(target_correlation)"
   ]
  },
  {
   "cell_type": "code",
   "execution_count": 10,
   "id": "051bde73",
   "metadata": {},
   "outputs": [],
   "source": [
    "# created feature and target datasets\n",
    "X = data.drop(columns='fraud_bool')\n",
    "\n",
    "y = data['fraud_bool']"
   ]
  },
  {
   "cell_type": "code",
   "execution_count": 11,
   "id": "482525b8",
   "metadata": {},
   "outputs": [],
   "source": [
    "# split data into training and test\n",
    "from sklearn.model_selection import train_test_split\n",
    "\n",
    "X_train, X_test, y_train, y_test = train_test_split(X, y, test_size = 0.25, random_state = 1, stratify = y)"
   ]
  },
  {
   "cell_type": "markdown",
   "id": "deeb947e",
   "metadata": {},
   "source": [
    "## Random Undersampling\n",
    "To account for the high class imbalance, I decided to utilize random undersampling. Random undersampling is an industry standard method for dealing with class imbalance, where a random sample of the majority class is selected in order to achieve a more balanced proportion of classes (typically 50/50). However, I only used random undersampling on the training set. We want to evaluate the model using the entire test dataset because we want to maintain the original proportion that best represents the population and we want to maintain a substantial amount of data to use to make predictions. The random undersampling resulted in 8272 observations of each class in the training set."
   ]
  },
  {
   "cell_type": "code",
   "execution_count": 12,
   "id": "b9829218",
   "metadata": {},
   "outputs": [],
   "source": [
    "np.random.seed(1)\n",
    "\n",
    "# identify majority class indices\n",
    "majority = y_train[y_train == 0].index\n",
    "\n",
    "# randomly select a subset of majority class indices to keep\n",
    "selected_indices = np.random.choice(majority, size=(len(y_train[y_train == 1])), replace=True)\n",
    "\n",
    "# combine minority class indices with selected majority indices\n",
    "selected = np.concatenate([selected_indices, y_train[y_train == 1].index])\n",
    "\n",
    "# use indices to resample training set\n",
    "X_train = X_train.loc[selected]\n",
    "y_train = y_train.loc[selected]"
   ]
  },
  {
   "cell_type": "code",
   "execution_count": 13,
   "id": "3b908353",
   "metadata": {},
   "outputs": [
    {
     "data": {
      "text/plain": [
       "fraud_bool\n",
       "0    8272\n",
       "1    8272\n",
       "Name: count, dtype: int64"
      ]
     },
     "execution_count": 13,
     "metadata": {},
     "output_type": "execute_result"
    }
   ],
   "source": [
    "y_train.value_counts()"
   ]
  },
  {
   "cell_type": "markdown",
   "id": "330e904e",
   "metadata": {},
   "source": [
    "## Pick Best Estimator\n",
    "For our model, I tested three different types. For these types, I wanted to only look at models that can provide predicted probabilities, so I decided to try three different tree-based models: decision tree, random forest, and XGBoost (Extreme Gradient Boosting Decision Tree). XGboost is a gradient boosting method which creates many weak models that attempt to correct the errors from the previous one. From our research and our work in the capstone project, the XGBoost estimator handles class imbalance well, as well as providing predicted probabilities.\n",
    "\n",
    "In our process for picking the best estimator, I utilized OneHotEncoding to encode the categorical columns containing strings. Another alternative would be to replace each category with a corresponding number, but OneHotEncoding is more efficient. I then used grid search that incorporates 5-Fold Cross Validation and scores based on the Area Under the ROC curve score (ROC-AUC). I chose to use ROC-AUC for scoring because it gives a good evaluation of performance across all decision thresholds, which is important for high class imbalance."
   ]
  },
  {
   "cell_type": "markdown",
   "id": "106623c1",
   "metadata": {},
   "source": [
    "#### Decision Tree"
   ]
  },
  {
   "cell_type": "code",
   "execution_count": 14,
   "id": "fe32388c",
   "metadata": {},
   "outputs": [],
   "source": [
    "# Decision Tree\n",
    "from sklearn.model_selection import StratifiedKFold\n",
    "from sklearn.tree import DecisionTreeClassifier\n",
    "from sklearn.model_selection import GridSearchCV\n",
    "from sklearn.compose import ColumnTransformer\n",
    "from sklearn.pipeline import Pipeline\n",
    "from sklearn.preprocessing import OneHotEncoder\n",
    "\n",
    "cat_columns = ['payment_type', 'employment_status', 'housing_status', 'source', 'device_os']\n",
    "\n",
    "skf = StratifiedKFold(n_splits=5, shuffle=True, random_state=23)\n",
    "\n",
    "dt_preprocessor = ColumnTransformer(\n",
    "    transformers=[\n",
    "        ('cat', OneHotEncoder(handle_unknown='ignore'), cat_columns)\n",
    "    ],\n",
    "    remainder='passthrough'\n",
    ")\n",
    "\n",
    "dt_pipe = Pipeline([\n",
    "    ('preprocessor', dt_preprocessor),\n",
    "    ('dt', DecisionTreeClassifier())\n",
    "])\n",
    "\n",
    "dt_param_grid = {\n",
    "    'dt__min_samples_leaf': [25, 50, 75, 100],\n",
    "    'dt__max_depth': [9, 10, 11, 12, 13, 14]\n",
    "}\n",
    "\n",
    "dt_gs = GridSearchCV(dt_pipe, dt_param_grid, cv=skf, scoring='roc_auc', return_train_score = True, error_score='raise')"
   ]
  },
  {
   "cell_type": "code",
   "execution_count": 15,
   "id": "2c33cfaa",
   "metadata": {
    "scrolled": true
   },
   "outputs": [
    {
     "data": {
      "text/html": [
       "<style>#sk-container-id-1 {color: black;}#sk-container-id-1 pre{padding: 0;}#sk-container-id-1 div.sk-toggleable {background-color: white;}#sk-container-id-1 label.sk-toggleable__label {cursor: pointer;display: block;width: 100%;margin-bottom: 0;padding: 0.3em;box-sizing: border-box;text-align: center;}#sk-container-id-1 label.sk-toggleable__label-arrow:before {content: \"▸\";float: left;margin-right: 0.25em;color: #696969;}#sk-container-id-1 label.sk-toggleable__label-arrow:hover:before {color: black;}#sk-container-id-1 div.sk-estimator:hover label.sk-toggleable__label-arrow:before {color: black;}#sk-container-id-1 div.sk-toggleable__content {max-height: 0;max-width: 0;overflow: hidden;text-align: left;background-color: #f0f8ff;}#sk-container-id-1 div.sk-toggleable__content pre {margin: 0.2em;color: black;border-radius: 0.25em;background-color: #f0f8ff;}#sk-container-id-1 input.sk-toggleable__control:checked~div.sk-toggleable__content {max-height: 200px;max-width: 100%;overflow: auto;}#sk-container-id-1 input.sk-toggleable__control:checked~label.sk-toggleable__label-arrow:before {content: \"▾\";}#sk-container-id-1 div.sk-estimator input.sk-toggleable__control:checked~label.sk-toggleable__label {background-color: #d4ebff;}#sk-container-id-1 div.sk-label input.sk-toggleable__control:checked~label.sk-toggleable__label {background-color: #d4ebff;}#sk-container-id-1 input.sk-hidden--visually {border: 0;clip: rect(1px 1px 1px 1px);clip: rect(1px, 1px, 1px, 1px);height: 1px;margin: -1px;overflow: hidden;padding: 0;position: absolute;width: 1px;}#sk-container-id-1 div.sk-estimator {font-family: monospace;background-color: #f0f8ff;border: 1px dotted black;border-radius: 0.25em;box-sizing: border-box;margin-bottom: 0.5em;}#sk-container-id-1 div.sk-estimator:hover {background-color: #d4ebff;}#sk-container-id-1 div.sk-parallel-item::after {content: \"\";width: 100%;border-bottom: 1px solid gray;flex-grow: 1;}#sk-container-id-1 div.sk-label:hover label.sk-toggleable__label {background-color: #d4ebff;}#sk-container-id-1 div.sk-serial::before {content: \"\";position: absolute;border-left: 1px solid gray;box-sizing: border-box;top: 0;bottom: 0;left: 50%;z-index: 0;}#sk-container-id-1 div.sk-serial {display: flex;flex-direction: column;align-items: center;background-color: white;padding-right: 0.2em;padding-left: 0.2em;position: relative;}#sk-container-id-1 div.sk-item {position: relative;z-index: 1;}#sk-container-id-1 div.sk-parallel {display: flex;align-items: stretch;justify-content: center;background-color: white;position: relative;}#sk-container-id-1 div.sk-item::before, #sk-container-id-1 div.sk-parallel-item::before {content: \"\";position: absolute;border-left: 1px solid gray;box-sizing: border-box;top: 0;bottom: 0;left: 50%;z-index: -1;}#sk-container-id-1 div.sk-parallel-item {display: flex;flex-direction: column;z-index: 1;position: relative;background-color: white;}#sk-container-id-1 div.sk-parallel-item:first-child::after {align-self: flex-end;width: 50%;}#sk-container-id-1 div.sk-parallel-item:last-child::after {align-self: flex-start;width: 50%;}#sk-container-id-1 div.sk-parallel-item:only-child::after {width: 0;}#sk-container-id-1 div.sk-dashed-wrapped {border: 1px dashed gray;margin: 0 0.4em 0.5em 0.4em;box-sizing: border-box;padding-bottom: 0.4em;background-color: white;}#sk-container-id-1 div.sk-label label {font-family: monospace;font-weight: bold;display: inline-block;line-height: 1.2em;}#sk-container-id-1 div.sk-label-container {text-align: center;}#sk-container-id-1 div.sk-container {/* jupyter's `normalize.less` sets `[hidden] { display: none; }` but bootstrap.min.css set `[hidden] { display: none !important; }` so we also need the `!important` here to be able to override the default hidden behavior on the sphinx rendered scikit-learn.org. See: https://github.com/scikit-learn/scikit-learn/issues/21755 */display: inline-block !important;position: relative;}#sk-container-id-1 div.sk-text-repr-fallback {display: none;}</style><div id=\"sk-container-id-1\" class=\"sk-top-container\"><div class=\"sk-text-repr-fallback\"><pre>GridSearchCV(cv=StratifiedKFold(n_splits=5, random_state=23, shuffle=True),\n",
       "             error_score=&#x27;raise&#x27;,\n",
       "             estimator=Pipeline(steps=[(&#x27;preprocessor&#x27;,\n",
       "                                        ColumnTransformer(remainder=&#x27;passthrough&#x27;,\n",
       "                                                          transformers=[(&#x27;cat&#x27;,\n",
       "                                                                         OneHotEncoder(handle_unknown=&#x27;ignore&#x27;),\n",
       "                                                                         [&#x27;payment_type&#x27;,\n",
       "                                                                          &#x27;employment_status&#x27;,\n",
       "                                                                          &#x27;housing_status&#x27;,\n",
       "                                                                          &#x27;source&#x27;,\n",
       "                                                                          &#x27;device_os&#x27;])])),\n",
       "                                       (&#x27;dt&#x27;, DecisionTreeClassifier())]),\n",
       "             param_grid={&#x27;dt__max_depth&#x27;: [9, 10, 11, 12, 13, 14],\n",
       "                         &#x27;dt__min_samples_leaf&#x27;: [25, 50, 75, 100]},\n",
       "             return_train_score=True, scoring=&#x27;roc_auc&#x27;)</pre><b>In a Jupyter environment, please rerun this cell to show the HTML representation or trust the notebook. <br />On GitHub, the HTML representation is unable to render, please try loading this page with nbviewer.org.</b></div><div class=\"sk-container\" hidden><div class=\"sk-item sk-dashed-wrapped\"><div class=\"sk-label-container\"><div class=\"sk-label sk-toggleable\"><input class=\"sk-toggleable__control sk-hidden--visually\" id=\"sk-estimator-id-1\" type=\"checkbox\" ><label for=\"sk-estimator-id-1\" class=\"sk-toggleable__label sk-toggleable__label-arrow\">GridSearchCV</label><div class=\"sk-toggleable__content\"><pre>GridSearchCV(cv=StratifiedKFold(n_splits=5, random_state=23, shuffle=True),\n",
       "             error_score=&#x27;raise&#x27;,\n",
       "             estimator=Pipeline(steps=[(&#x27;preprocessor&#x27;,\n",
       "                                        ColumnTransformer(remainder=&#x27;passthrough&#x27;,\n",
       "                                                          transformers=[(&#x27;cat&#x27;,\n",
       "                                                                         OneHotEncoder(handle_unknown=&#x27;ignore&#x27;),\n",
       "                                                                         [&#x27;payment_type&#x27;,\n",
       "                                                                          &#x27;employment_status&#x27;,\n",
       "                                                                          &#x27;housing_status&#x27;,\n",
       "                                                                          &#x27;source&#x27;,\n",
       "                                                                          &#x27;device_os&#x27;])])),\n",
       "                                       (&#x27;dt&#x27;, DecisionTreeClassifier())]),\n",
       "             param_grid={&#x27;dt__max_depth&#x27;: [9, 10, 11, 12, 13, 14],\n",
       "                         &#x27;dt__min_samples_leaf&#x27;: [25, 50, 75, 100]},\n",
       "             return_train_score=True, scoring=&#x27;roc_auc&#x27;)</pre></div></div></div><div class=\"sk-parallel\"><div class=\"sk-parallel-item\"><div class=\"sk-item\"><div class=\"sk-label-container\"><div class=\"sk-label sk-toggleable\"><input class=\"sk-toggleable__control sk-hidden--visually\" id=\"sk-estimator-id-2\" type=\"checkbox\" ><label for=\"sk-estimator-id-2\" class=\"sk-toggleable__label sk-toggleable__label-arrow\">estimator: Pipeline</label><div class=\"sk-toggleable__content\"><pre>Pipeline(steps=[(&#x27;preprocessor&#x27;,\n",
       "                 ColumnTransformer(remainder=&#x27;passthrough&#x27;,\n",
       "                                   transformers=[(&#x27;cat&#x27;,\n",
       "                                                  OneHotEncoder(handle_unknown=&#x27;ignore&#x27;),\n",
       "                                                  [&#x27;payment_type&#x27;,\n",
       "                                                   &#x27;employment_status&#x27;,\n",
       "                                                   &#x27;housing_status&#x27;, &#x27;source&#x27;,\n",
       "                                                   &#x27;device_os&#x27;])])),\n",
       "                (&#x27;dt&#x27;, DecisionTreeClassifier())])</pre></div></div></div><div class=\"sk-serial\"><div class=\"sk-item\"><div class=\"sk-serial\"><div class=\"sk-item sk-dashed-wrapped\"><div class=\"sk-label-container\"><div class=\"sk-label sk-toggleable\"><input class=\"sk-toggleable__control sk-hidden--visually\" id=\"sk-estimator-id-3\" type=\"checkbox\" ><label for=\"sk-estimator-id-3\" class=\"sk-toggleable__label sk-toggleable__label-arrow\">preprocessor: ColumnTransformer</label><div class=\"sk-toggleable__content\"><pre>ColumnTransformer(remainder=&#x27;passthrough&#x27;,\n",
       "                  transformers=[(&#x27;cat&#x27;, OneHotEncoder(handle_unknown=&#x27;ignore&#x27;),\n",
       "                                 [&#x27;payment_type&#x27;, &#x27;employment_status&#x27;,\n",
       "                                  &#x27;housing_status&#x27;, &#x27;source&#x27;, &#x27;device_os&#x27;])])</pre></div></div></div><div class=\"sk-parallel\"><div class=\"sk-parallel-item\"><div class=\"sk-item\"><div class=\"sk-label-container\"><div class=\"sk-label sk-toggleable\"><input class=\"sk-toggleable__control sk-hidden--visually\" id=\"sk-estimator-id-4\" type=\"checkbox\" ><label for=\"sk-estimator-id-4\" class=\"sk-toggleable__label sk-toggleable__label-arrow\">cat</label><div class=\"sk-toggleable__content\"><pre>[&#x27;payment_type&#x27;, &#x27;employment_status&#x27;, &#x27;housing_status&#x27;, &#x27;source&#x27;, &#x27;device_os&#x27;]</pre></div></div></div><div class=\"sk-serial\"><div class=\"sk-item\"><div class=\"sk-estimator sk-toggleable\"><input class=\"sk-toggleable__control sk-hidden--visually\" id=\"sk-estimator-id-5\" type=\"checkbox\" ><label for=\"sk-estimator-id-5\" class=\"sk-toggleable__label sk-toggleable__label-arrow\">OneHotEncoder</label><div class=\"sk-toggleable__content\"><pre>OneHotEncoder(handle_unknown=&#x27;ignore&#x27;)</pre></div></div></div></div></div></div><div class=\"sk-parallel-item\"><div class=\"sk-item\"><div class=\"sk-label-container\"><div class=\"sk-label sk-toggleable\"><input class=\"sk-toggleable__control sk-hidden--visually\" id=\"sk-estimator-id-6\" type=\"checkbox\" ><label for=\"sk-estimator-id-6\" class=\"sk-toggleable__label sk-toggleable__label-arrow\">remainder</label><div class=\"sk-toggleable__content\"><pre></pre></div></div></div><div class=\"sk-serial\"><div class=\"sk-item\"><div class=\"sk-estimator sk-toggleable\"><input class=\"sk-toggleable__control sk-hidden--visually\" id=\"sk-estimator-id-7\" type=\"checkbox\" ><label for=\"sk-estimator-id-7\" class=\"sk-toggleable__label sk-toggleable__label-arrow\">passthrough</label><div class=\"sk-toggleable__content\"><pre>passthrough</pre></div></div></div></div></div></div></div></div><div class=\"sk-item\"><div class=\"sk-estimator sk-toggleable\"><input class=\"sk-toggleable__control sk-hidden--visually\" id=\"sk-estimator-id-8\" type=\"checkbox\" ><label for=\"sk-estimator-id-8\" class=\"sk-toggleable__label sk-toggleable__label-arrow\">DecisionTreeClassifier</label><div class=\"sk-toggleable__content\"><pre>DecisionTreeClassifier()</pre></div></div></div></div></div></div></div></div></div></div></div></div>"
      ],
      "text/plain": [
       "GridSearchCV(cv=StratifiedKFold(n_splits=5, random_state=23, shuffle=True),\n",
       "             error_score='raise',\n",
       "             estimator=Pipeline(steps=[('preprocessor',\n",
       "                                        ColumnTransformer(remainder='passthrough',\n",
       "                                                          transformers=[('cat',\n",
       "                                                                         OneHotEncoder(handle_unknown='ignore'),\n",
       "                                                                         ['payment_type',\n",
       "                                                                          'employment_status',\n",
       "                                                                          'housing_status',\n",
       "                                                                          'source',\n",
       "                                                                          'device_os'])])),\n",
       "                                       ('dt', DecisionTreeClassifier())]),\n",
       "             param_grid={'dt__max_depth': [9, 10, 11, 12, 13, 14],\n",
       "                         'dt__min_samples_leaf': [25, 50, 75, 100]},\n",
       "             return_train_score=True, scoring='roc_auc')"
      ]
     },
     "execution_count": 15,
     "metadata": {},
     "output_type": "execute_result"
    }
   ],
   "source": [
    "dt_gs.fit(X_train, y_train)"
   ]
  },
  {
   "cell_type": "code",
   "execution_count": 16,
   "id": "20dfcd70",
   "metadata": {
    "scrolled": true
   },
   "outputs": [
    {
     "name": "stdout",
     "output_type": "stream",
     "text": [
      "Best params:\n",
      "{'dt__max_depth': 11, 'dt__min_samples_leaf': 75}\n",
      "ROC-AUC: 0.8435325371599255\n"
     ]
    }
   ],
   "source": [
    "print(\"Best params:\\n{}\".format(dt_gs.best_params_))\n",
    "\n",
    "print(\"ROC-AUC: {}\".format(dt_gs.best_score_))"
   ]
  },
  {
   "cell_type": "markdown",
   "id": "a89f2c45",
   "metadata": {},
   "source": [
    "#### Random Forest"
   ]
  },
  {
   "cell_type": "code",
   "execution_count": 17,
   "id": "51dca41a",
   "metadata": {},
   "outputs": [],
   "source": [
    "# random forest\n",
    "from sklearn.ensemble import RandomForestClassifier\n",
    "\n",
    "rf_preprocessor = ColumnTransformer(\n",
    "    transformers=[\n",
    "        ('cat', OneHotEncoder(handle_unknown='ignore'), cat_columns)\n",
    "    ],\n",
    "    remainder='passthrough'\n",
    ")\n",
    "\n",
    "rf_pipe = Pipeline([\n",
    "    ('preprocessor', rf_preprocessor),\n",
    "    ('rf', RandomForestClassifier(n_estimators=100))\n",
    "])\n",
    "\n",
    "rf_param_grid = {\n",
    "    'rf__min_samples_leaf': [25, 50, 75, 100],\n",
    "    'rf__max_depth': [7, 9, 11]\n",
    "}\n",
    "\n",
    "rf_gs = GridSearchCV(rf_pipe, rf_param_grid, cv=skf, scoring='roc_auc', return_train_score = True, error_score='raise')"
   ]
  },
  {
   "cell_type": "code",
   "execution_count": 18,
   "id": "9943ede1",
   "metadata": {},
   "outputs": [
    {
     "data": {
      "text/html": [
       "<style>#sk-container-id-2 {color: black;}#sk-container-id-2 pre{padding: 0;}#sk-container-id-2 div.sk-toggleable {background-color: white;}#sk-container-id-2 label.sk-toggleable__label {cursor: pointer;display: block;width: 100%;margin-bottom: 0;padding: 0.3em;box-sizing: border-box;text-align: center;}#sk-container-id-2 label.sk-toggleable__label-arrow:before {content: \"▸\";float: left;margin-right: 0.25em;color: #696969;}#sk-container-id-2 label.sk-toggleable__label-arrow:hover:before {color: black;}#sk-container-id-2 div.sk-estimator:hover label.sk-toggleable__label-arrow:before {color: black;}#sk-container-id-2 div.sk-toggleable__content {max-height: 0;max-width: 0;overflow: hidden;text-align: left;background-color: #f0f8ff;}#sk-container-id-2 div.sk-toggleable__content pre {margin: 0.2em;color: black;border-radius: 0.25em;background-color: #f0f8ff;}#sk-container-id-2 input.sk-toggleable__control:checked~div.sk-toggleable__content {max-height: 200px;max-width: 100%;overflow: auto;}#sk-container-id-2 input.sk-toggleable__control:checked~label.sk-toggleable__label-arrow:before {content: \"▾\";}#sk-container-id-2 div.sk-estimator input.sk-toggleable__control:checked~label.sk-toggleable__label {background-color: #d4ebff;}#sk-container-id-2 div.sk-label input.sk-toggleable__control:checked~label.sk-toggleable__label {background-color: #d4ebff;}#sk-container-id-2 input.sk-hidden--visually {border: 0;clip: rect(1px 1px 1px 1px);clip: rect(1px, 1px, 1px, 1px);height: 1px;margin: -1px;overflow: hidden;padding: 0;position: absolute;width: 1px;}#sk-container-id-2 div.sk-estimator {font-family: monospace;background-color: #f0f8ff;border: 1px dotted black;border-radius: 0.25em;box-sizing: border-box;margin-bottom: 0.5em;}#sk-container-id-2 div.sk-estimator:hover {background-color: #d4ebff;}#sk-container-id-2 div.sk-parallel-item::after {content: \"\";width: 100%;border-bottom: 1px solid gray;flex-grow: 1;}#sk-container-id-2 div.sk-label:hover label.sk-toggleable__label {background-color: #d4ebff;}#sk-container-id-2 div.sk-serial::before {content: \"\";position: absolute;border-left: 1px solid gray;box-sizing: border-box;top: 0;bottom: 0;left: 50%;z-index: 0;}#sk-container-id-2 div.sk-serial {display: flex;flex-direction: column;align-items: center;background-color: white;padding-right: 0.2em;padding-left: 0.2em;position: relative;}#sk-container-id-2 div.sk-item {position: relative;z-index: 1;}#sk-container-id-2 div.sk-parallel {display: flex;align-items: stretch;justify-content: center;background-color: white;position: relative;}#sk-container-id-2 div.sk-item::before, #sk-container-id-2 div.sk-parallel-item::before {content: \"\";position: absolute;border-left: 1px solid gray;box-sizing: border-box;top: 0;bottom: 0;left: 50%;z-index: -1;}#sk-container-id-2 div.sk-parallel-item {display: flex;flex-direction: column;z-index: 1;position: relative;background-color: white;}#sk-container-id-2 div.sk-parallel-item:first-child::after {align-self: flex-end;width: 50%;}#sk-container-id-2 div.sk-parallel-item:last-child::after {align-self: flex-start;width: 50%;}#sk-container-id-2 div.sk-parallel-item:only-child::after {width: 0;}#sk-container-id-2 div.sk-dashed-wrapped {border: 1px dashed gray;margin: 0 0.4em 0.5em 0.4em;box-sizing: border-box;padding-bottom: 0.4em;background-color: white;}#sk-container-id-2 div.sk-label label {font-family: monospace;font-weight: bold;display: inline-block;line-height: 1.2em;}#sk-container-id-2 div.sk-label-container {text-align: center;}#sk-container-id-2 div.sk-container {/* jupyter's `normalize.less` sets `[hidden] { display: none; }` but bootstrap.min.css set `[hidden] { display: none !important; }` so we also need the `!important` here to be able to override the default hidden behavior on the sphinx rendered scikit-learn.org. See: https://github.com/scikit-learn/scikit-learn/issues/21755 */display: inline-block !important;position: relative;}#sk-container-id-2 div.sk-text-repr-fallback {display: none;}</style><div id=\"sk-container-id-2\" class=\"sk-top-container\"><div class=\"sk-text-repr-fallback\"><pre>GridSearchCV(cv=StratifiedKFold(n_splits=5, random_state=23, shuffle=True),\n",
       "             error_score=&#x27;raise&#x27;,\n",
       "             estimator=Pipeline(steps=[(&#x27;preprocessor&#x27;,\n",
       "                                        ColumnTransformer(remainder=&#x27;passthrough&#x27;,\n",
       "                                                          transformers=[(&#x27;cat&#x27;,\n",
       "                                                                         OneHotEncoder(handle_unknown=&#x27;ignore&#x27;),\n",
       "                                                                         [&#x27;payment_type&#x27;,\n",
       "                                                                          &#x27;employment_status&#x27;,\n",
       "                                                                          &#x27;housing_status&#x27;,\n",
       "                                                                          &#x27;source&#x27;,\n",
       "                                                                          &#x27;device_os&#x27;])])),\n",
       "                                       (&#x27;rf&#x27;, RandomForestClassifier())]),\n",
       "             param_grid={&#x27;rf__max_depth&#x27;: [7, 9, 11],\n",
       "                         &#x27;rf__min_samples_leaf&#x27;: [25, 50, 75, 100]},\n",
       "             return_train_score=True, scoring=&#x27;roc_auc&#x27;)</pre><b>In a Jupyter environment, please rerun this cell to show the HTML representation or trust the notebook. <br />On GitHub, the HTML representation is unable to render, please try loading this page with nbviewer.org.</b></div><div class=\"sk-container\" hidden><div class=\"sk-item sk-dashed-wrapped\"><div class=\"sk-label-container\"><div class=\"sk-label sk-toggleable\"><input class=\"sk-toggleable__control sk-hidden--visually\" id=\"sk-estimator-id-9\" type=\"checkbox\" ><label for=\"sk-estimator-id-9\" class=\"sk-toggleable__label sk-toggleable__label-arrow\">GridSearchCV</label><div class=\"sk-toggleable__content\"><pre>GridSearchCV(cv=StratifiedKFold(n_splits=5, random_state=23, shuffle=True),\n",
       "             error_score=&#x27;raise&#x27;,\n",
       "             estimator=Pipeline(steps=[(&#x27;preprocessor&#x27;,\n",
       "                                        ColumnTransformer(remainder=&#x27;passthrough&#x27;,\n",
       "                                                          transformers=[(&#x27;cat&#x27;,\n",
       "                                                                         OneHotEncoder(handle_unknown=&#x27;ignore&#x27;),\n",
       "                                                                         [&#x27;payment_type&#x27;,\n",
       "                                                                          &#x27;employment_status&#x27;,\n",
       "                                                                          &#x27;housing_status&#x27;,\n",
       "                                                                          &#x27;source&#x27;,\n",
       "                                                                          &#x27;device_os&#x27;])])),\n",
       "                                       (&#x27;rf&#x27;, RandomForestClassifier())]),\n",
       "             param_grid={&#x27;rf__max_depth&#x27;: [7, 9, 11],\n",
       "                         &#x27;rf__min_samples_leaf&#x27;: [25, 50, 75, 100]},\n",
       "             return_train_score=True, scoring=&#x27;roc_auc&#x27;)</pre></div></div></div><div class=\"sk-parallel\"><div class=\"sk-parallel-item\"><div class=\"sk-item\"><div class=\"sk-label-container\"><div class=\"sk-label sk-toggleable\"><input class=\"sk-toggleable__control sk-hidden--visually\" id=\"sk-estimator-id-10\" type=\"checkbox\" ><label for=\"sk-estimator-id-10\" class=\"sk-toggleable__label sk-toggleable__label-arrow\">estimator: Pipeline</label><div class=\"sk-toggleable__content\"><pre>Pipeline(steps=[(&#x27;preprocessor&#x27;,\n",
       "                 ColumnTransformer(remainder=&#x27;passthrough&#x27;,\n",
       "                                   transformers=[(&#x27;cat&#x27;,\n",
       "                                                  OneHotEncoder(handle_unknown=&#x27;ignore&#x27;),\n",
       "                                                  [&#x27;payment_type&#x27;,\n",
       "                                                   &#x27;employment_status&#x27;,\n",
       "                                                   &#x27;housing_status&#x27;, &#x27;source&#x27;,\n",
       "                                                   &#x27;device_os&#x27;])])),\n",
       "                (&#x27;rf&#x27;, RandomForestClassifier())])</pre></div></div></div><div class=\"sk-serial\"><div class=\"sk-item\"><div class=\"sk-serial\"><div class=\"sk-item sk-dashed-wrapped\"><div class=\"sk-label-container\"><div class=\"sk-label sk-toggleable\"><input class=\"sk-toggleable__control sk-hidden--visually\" id=\"sk-estimator-id-11\" type=\"checkbox\" ><label for=\"sk-estimator-id-11\" class=\"sk-toggleable__label sk-toggleable__label-arrow\">preprocessor: ColumnTransformer</label><div class=\"sk-toggleable__content\"><pre>ColumnTransformer(remainder=&#x27;passthrough&#x27;,\n",
       "                  transformers=[(&#x27;cat&#x27;, OneHotEncoder(handle_unknown=&#x27;ignore&#x27;),\n",
       "                                 [&#x27;payment_type&#x27;, &#x27;employment_status&#x27;,\n",
       "                                  &#x27;housing_status&#x27;, &#x27;source&#x27;, &#x27;device_os&#x27;])])</pre></div></div></div><div class=\"sk-parallel\"><div class=\"sk-parallel-item\"><div class=\"sk-item\"><div class=\"sk-label-container\"><div class=\"sk-label sk-toggleable\"><input class=\"sk-toggleable__control sk-hidden--visually\" id=\"sk-estimator-id-12\" type=\"checkbox\" ><label for=\"sk-estimator-id-12\" class=\"sk-toggleable__label sk-toggleable__label-arrow\">cat</label><div class=\"sk-toggleable__content\"><pre>[&#x27;payment_type&#x27;, &#x27;employment_status&#x27;, &#x27;housing_status&#x27;, &#x27;source&#x27;, &#x27;device_os&#x27;]</pre></div></div></div><div class=\"sk-serial\"><div class=\"sk-item\"><div class=\"sk-estimator sk-toggleable\"><input class=\"sk-toggleable__control sk-hidden--visually\" id=\"sk-estimator-id-13\" type=\"checkbox\" ><label for=\"sk-estimator-id-13\" class=\"sk-toggleable__label sk-toggleable__label-arrow\">OneHotEncoder</label><div class=\"sk-toggleable__content\"><pre>OneHotEncoder(handle_unknown=&#x27;ignore&#x27;)</pre></div></div></div></div></div></div><div class=\"sk-parallel-item\"><div class=\"sk-item\"><div class=\"sk-label-container\"><div class=\"sk-label sk-toggleable\"><input class=\"sk-toggleable__control sk-hidden--visually\" id=\"sk-estimator-id-14\" type=\"checkbox\" ><label for=\"sk-estimator-id-14\" class=\"sk-toggleable__label sk-toggleable__label-arrow\">remainder</label><div class=\"sk-toggleable__content\"><pre></pre></div></div></div><div class=\"sk-serial\"><div class=\"sk-item\"><div class=\"sk-estimator sk-toggleable\"><input class=\"sk-toggleable__control sk-hidden--visually\" id=\"sk-estimator-id-15\" type=\"checkbox\" ><label for=\"sk-estimator-id-15\" class=\"sk-toggleable__label sk-toggleable__label-arrow\">passthrough</label><div class=\"sk-toggleable__content\"><pre>passthrough</pre></div></div></div></div></div></div></div></div><div class=\"sk-item\"><div class=\"sk-estimator sk-toggleable\"><input class=\"sk-toggleable__control sk-hidden--visually\" id=\"sk-estimator-id-16\" type=\"checkbox\" ><label for=\"sk-estimator-id-16\" class=\"sk-toggleable__label sk-toggleable__label-arrow\">RandomForestClassifier</label><div class=\"sk-toggleable__content\"><pre>RandomForestClassifier()</pre></div></div></div></div></div></div></div></div></div></div></div></div>"
      ],
      "text/plain": [
       "GridSearchCV(cv=StratifiedKFold(n_splits=5, random_state=23, shuffle=True),\n",
       "             error_score='raise',\n",
       "             estimator=Pipeline(steps=[('preprocessor',\n",
       "                                        ColumnTransformer(remainder='passthrough',\n",
       "                                                          transformers=[('cat',\n",
       "                                                                         OneHotEncoder(handle_unknown='ignore'),\n",
       "                                                                         ['payment_type',\n",
       "                                                                          'employment_status',\n",
       "                                                                          'housing_status',\n",
       "                                                                          'source',\n",
       "                                                                          'device_os'])])),\n",
       "                                       ('rf', RandomForestClassifier())]),\n",
       "             param_grid={'rf__max_depth': [7, 9, 11],\n",
       "                         'rf__min_samples_leaf': [25, 50, 75, 100]},\n",
       "             return_train_score=True, scoring='roc_auc')"
      ]
     },
     "execution_count": 18,
     "metadata": {},
     "output_type": "execute_result"
    }
   ],
   "source": [
    "rf_gs.fit(X_train, y_train)"
   ]
  },
  {
   "cell_type": "code",
   "execution_count": 19,
   "id": "6ec42243",
   "metadata": {},
   "outputs": [
    {
     "name": "stdout",
     "output_type": "stream",
     "text": [
      "Best params:\n",
      "{'rf__max_depth': 11, 'rf__min_samples_leaf': 25}\n",
      "ROC-AUC: 0.8804541153078738\n"
     ]
    }
   ],
   "source": [
    "print(\"Best params:\\n{}\".format(rf_gs.best_params_))\n",
    "\n",
    "print(\"ROC-AUC: {}\".format(rf_gs.best_score_))"
   ]
  },
  {
   "cell_type": "markdown",
   "id": "cee2bf26",
   "metadata": {},
   "source": [
    "#### XGBoost\n",
    "+ Must run `pip install xgboost` in command prompt"
   ]
  },
  {
   "cell_type": "code",
   "execution_count": 20,
   "id": "3e40be05",
   "metadata": {},
   "outputs": [],
   "source": [
    "# XGBoost\n",
    "from xgboost import XGBClassifier\n",
    "\n",
    "xgb_preprocessor = ColumnTransformer(\n",
    "    transformers=[\n",
    "        ('cat', OneHotEncoder(handle_unknown='ignore'), cat_columns)\n",
    "    ],\n",
    "    remainder='passthrough'\n",
    ")\n",
    "\n",
    "xgb_pipe = Pipeline([\n",
    "    ('preprocessor', xgb_preprocessor),\n",
    "    ('xgb', XGBClassifier(n_estimators=100))\n",
    "])\n",
    "\n",
    "xgb_param_grid = {\n",
    "    'xgb__learning_rate': [0.01, 0.5, 0.1],\n",
    "    'xgb__max_depth': [7, 9, 11]\n",
    "}\n",
    "\n",
    "xgb_gs = GridSearchCV(xgb_pipe, xgb_param_grid, cv=skf, scoring='roc_auc', return_train_score = True, error_score='raise')"
   ]
  },
  {
   "cell_type": "code",
   "execution_count": 21,
   "id": "ac734518",
   "metadata": {},
   "outputs": [
    {
     "data": {
      "text/html": [
       "<style>#sk-container-id-3 {color: black;}#sk-container-id-3 pre{padding: 0;}#sk-container-id-3 div.sk-toggleable {background-color: white;}#sk-container-id-3 label.sk-toggleable__label {cursor: pointer;display: block;width: 100%;margin-bottom: 0;padding: 0.3em;box-sizing: border-box;text-align: center;}#sk-container-id-3 label.sk-toggleable__label-arrow:before {content: \"▸\";float: left;margin-right: 0.25em;color: #696969;}#sk-container-id-3 label.sk-toggleable__label-arrow:hover:before {color: black;}#sk-container-id-3 div.sk-estimator:hover label.sk-toggleable__label-arrow:before {color: black;}#sk-container-id-3 div.sk-toggleable__content {max-height: 0;max-width: 0;overflow: hidden;text-align: left;background-color: #f0f8ff;}#sk-container-id-3 div.sk-toggleable__content pre {margin: 0.2em;color: black;border-radius: 0.25em;background-color: #f0f8ff;}#sk-container-id-3 input.sk-toggleable__control:checked~div.sk-toggleable__content {max-height: 200px;max-width: 100%;overflow: auto;}#sk-container-id-3 input.sk-toggleable__control:checked~label.sk-toggleable__label-arrow:before {content: \"▾\";}#sk-container-id-3 div.sk-estimator input.sk-toggleable__control:checked~label.sk-toggleable__label {background-color: #d4ebff;}#sk-container-id-3 div.sk-label input.sk-toggleable__control:checked~label.sk-toggleable__label {background-color: #d4ebff;}#sk-container-id-3 input.sk-hidden--visually {border: 0;clip: rect(1px 1px 1px 1px);clip: rect(1px, 1px, 1px, 1px);height: 1px;margin: -1px;overflow: hidden;padding: 0;position: absolute;width: 1px;}#sk-container-id-3 div.sk-estimator {font-family: monospace;background-color: #f0f8ff;border: 1px dotted black;border-radius: 0.25em;box-sizing: border-box;margin-bottom: 0.5em;}#sk-container-id-3 div.sk-estimator:hover {background-color: #d4ebff;}#sk-container-id-3 div.sk-parallel-item::after {content: \"\";width: 100%;border-bottom: 1px solid gray;flex-grow: 1;}#sk-container-id-3 div.sk-label:hover label.sk-toggleable__label {background-color: #d4ebff;}#sk-container-id-3 div.sk-serial::before {content: \"\";position: absolute;border-left: 1px solid gray;box-sizing: border-box;top: 0;bottom: 0;left: 50%;z-index: 0;}#sk-container-id-3 div.sk-serial {display: flex;flex-direction: column;align-items: center;background-color: white;padding-right: 0.2em;padding-left: 0.2em;position: relative;}#sk-container-id-3 div.sk-item {position: relative;z-index: 1;}#sk-container-id-3 div.sk-parallel {display: flex;align-items: stretch;justify-content: center;background-color: white;position: relative;}#sk-container-id-3 div.sk-item::before, #sk-container-id-3 div.sk-parallel-item::before {content: \"\";position: absolute;border-left: 1px solid gray;box-sizing: border-box;top: 0;bottom: 0;left: 50%;z-index: -1;}#sk-container-id-3 div.sk-parallel-item {display: flex;flex-direction: column;z-index: 1;position: relative;background-color: white;}#sk-container-id-3 div.sk-parallel-item:first-child::after {align-self: flex-end;width: 50%;}#sk-container-id-3 div.sk-parallel-item:last-child::after {align-self: flex-start;width: 50%;}#sk-container-id-3 div.sk-parallel-item:only-child::after {width: 0;}#sk-container-id-3 div.sk-dashed-wrapped {border: 1px dashed gray;margin: 0 0.4em 0.5em 0.4em;box-sizing: border-box;padding-bottom: 0.4em;background-color: white;}#sk-container-id-3 div.sk-label label {font-family: monospace;font-weight: bold;display: inline-block;line-height: 1.2em;}#sk-container-id-3 div.sk-label-container {text-align: center;}#sk-container-id-3 div.sk-container {/* jupyter's `normalize.less` sets `[hidden] { display: none; }` but bootstrap.min.css set `[hidden] { display: none !important; }` so we also need the `!important` here to be able to override the default hidden behavior on the sphinx rendered scikit-learn.org. See: https://github.com/scikit-learn/scikit-learn/issues/21755 */display: inline-block !important;position: relative;}#sk-container-id-3 div.sk-text-repr-fallback {display: none;}</style><div id=\"sk-container-id-3\" class=\"sk-top-container\"><div class=\"sk-text-repr-fallback\"><pre>GridSearchCV(cv=StratifiedKFold(n_splits=5, random_state=23, shuffle=True),\n",
       "             error_score=&#x27;raise&#x27;,\n",
       "             estimator=Pipeline(steps=[(&#x27;preprocessor&#x27;,\n",
       "                                        ColumnTransformer(remainder=&#x27;passthrough&#x27;,\n",
       "                                                          transformers=[(&#x27;cat&#x27;,\n",
       "                                                                         OneHotEncoder(handle_unknown=&#x27;ignore&#x27;),\n",
       "                                                                         [&#x27;payment_type&#x27;,\n",
       "                                                                          &#x27;employment_status&#x27;,\n",
       "                                                                          &#x27;housing_status&#x27;,\n",
       "                                                                          &#x27;source&#x27;,\n",
       "                                                                          &#x27;device_os&#x27;])])),\n",
       "                                       (&#x27;xgb&#x27;,\n",
       "                                        XGBClassifier(base_score=No...\n",
       "                                                      max_cat_threshold=None,\n",
       "                                                      max_cat_to_onehot=None,\n",
       "                                                      max_delta_step=None,\n",
       "                                                      max_depth=None,\n",
       "                                                      max_leaves=None,\n",
       "                                                      min_child_weight=None,\n",
       "                                                      missing=nan,\n",
       "                                                      monotone_constraints=None,\n",
       "                                                      multi_strategy=None,\n",
       "                                                      n_estimators=100,\n",
       "                                                      n_jobs=None,\n",
       "                                                      num_parallel_tree=None,\n",
       "                                                      random_state=None, ...))]),\n",
       "             param_grid={&#x27;xgb__learning_rate&#x27;: [0.01, 0.5, 0.1],\n",
       "                         &#x27;xgb__max_depth&#x27;: [7, 9, 11]},\n",
       "             return_train_score=True, scoring=&#x27;roc_auc&#x27;)</pre><b>In a Jupyter environment, please rerun this cell to show the HTML representation or trust the notebook. <br />On GitHub, the HTML representation is unable to render, please try loading this page with nbviewer.org.</b></div><div class=\"sk-container\" hidden><div class=\"sk-item sk-dashed-wrapped\"><div class=\"sk-label-container\"><div class=\"sk-label sk-toggleable\"><input class=\"sk-toggleable__control sk-hidden--visually\" id=\"sk-estimator-id-17\" type=\"checkbox\" ><label for=\"sk-estimator-id-17\" class=\"sk-toggleable__label sk-toggleable__label-arrow\">GridSearchCV</label><div class=\"sk-toggleable__content\"><pre>GridSearchCV(cv=StratifiedKFold(n_splits=5, random_state=23, shuffle=True),\n",
       "             error_score=&#x27;raise&#x27;,\n",
       "             estimator=Pipeline(steps=[(&#x27;preprocessor&#x27;,\n",
       "                                        ColumnTransformer(remainder=&#x27;passthrough&#x27;,\n",
       "                                                          transformers=[(&#x27;cat&#x27;,\n",
       "                                                                         OneHotEncoder(handle_unknown=&#x27;ignore&#x27;),\n",
       "                                                                         [&#x27;payment_type&#x27;,\n",
       "                                                                          &#x27;employment_status&#x27;,\n",
       "                                                                          &#x27;housing_status&#x27;,\n",
       "                                                                          &#x27;source&#x27;,\n",
       "                                                                          &#x27;device_os&#x27;])])),\n",
       "                                       (&#x27;xgb&#x27;,\n",
       "                                        XGBClassifier(base_score=No...\n",
       "                                                      max_cat_threshold=None,\n",
       "                                                      max_cat_to_onehot=None,\n",
       "                                                      max_delta_step=None,\n",
       "                                                      max_depth=None,\n",
       "                                                      max_leaves=None,\n",
       "                                                      min_child_weight=None,\n",
       "                                                      missing=nan,\n",
       "                                                      monotone_constraints=None,\n",
       "                                                      multi_strategy=None,\n",
       "                                                      n_estimators=100,\n",
       "                                                      n_jobs=None,\n",
       "                                                      num_parallel_tree=None,\n",
       "                                                      random_state=None, ...))]),\n",
       "             param_grid={&#x27;xgb__learning_rate&#x27;: [0.01, 0.5, 0.1],\n",
       "                         &#x27;xgb__max_depth&#x27;: [7, 9, 11]},\n",
       "             return_train_score=True, scoring=&#x27;roc_auc&#x27;)</pre></div></div></div><div class=\"sk-parallel\"><div class=\"sk-parallel-item\"><div class=\"sk-item\"><div class=\"sk-label-container\"><div class=\"sk-label sk-toggleable\"><input class=\"sk-toggleable__control sk-hidden--visually\" id=\"sk-estimator-id-18\" type=\"checkbox\" ><label for=\"sk-estimator-id-18\" class=\"sk-toggleable__label sk-toggleable__label-arrow\">estimator: Pipeline</label><div class=\"sk-toggleable__content\"><pre>Pipeline(steps=[(&#x27;preprocessor&#x27;,\n",
       "                 ColumnTransformer(remainder=&#x27;passthrough&#x27;,\n",
       "                                   transformers=[(&#x27;cat&#x27;,\n",
       "                                                  OneHotEncoder(handle_unknown=&#x27;ignore&#x27;),\n",
       "                                                  [&#x27;payment_type&#x27;,\n",
       "                                                   &#x27;employment_status&#x27;,\n",
       "                                                   &#x27;housing_status&#x27;, &#x27;source&#x27;,\n",
       "                                                   &#x27;device_os&#x27;])])),\n",
       "                (&#x27;xgb&#x27;,\n",
       "                 XGBClassifier(base_score=None, booster=None, callbacks=None,\n",
       "                               colsample_bylevel=None, colsample_bynode=None,\n",
       "                               colsample_bytree=None, devic...\n",
       "                               feature_types=None, gamma=None, grow_policy=None,\n",
       "                               importance_type=None,\n",
       "                               interaction_constraints=None, learning_rate=None,\n",
       "                               max_bin=None, max_cat_threshold=None,\n",
       "                               max_cat_to_onehot=None, max_delta_step=None,\n",
       "                               max_depth=None, max_leaves=None,\n",
       "                               min_child_weight=None, missing=nan,\n",
       "                               monotone_constraints=None, multi_strategy=None,\n",
       "                               n_estimators=100, n_jobs=None,\n",
       "                               num_parallel_tree=None, random_state=None, ...))])</pre></div></div></div><div class=\"sk-serial\"><div class=\"sk-item\"><div class=\"sk-serial\"><div class=\"sk-item sk-dashed-wrapped\"><div class=\"sk-label-container\"><div class=\"sk-label sk-toggleable\"><input class=\"sk-toggleable__control sk-hidden--visually\" id=\"sk-estimator-id-19\" type=\"checkbox\" ><label for=\"sk-estimator-id-19\" class=\"sk-toggleable__label sk-toggleable__label-arrow\">preprocessor: ColumnTransformer</label><div class=\"sk-toggleable__content\"><pre>ColumnTransformer(remainder=&#x27;passthrough&#x27;,\n",
       "                  transformers=[(&#x27;cat&#x27;, OneHotEncoder(handle_unknown=&#x27;ignore&#x27;),\n",
       "                                 [&#x27;payment_type&#x27;, &#x27;employment_status&#x27;,\n",
       "                                  &#x27;housing_status&#x27;, &#x27;source&#x27;, &#x27;device_os&#x27;])])</pre></div></div></div><div class=\"sk-parallel\"><div class=\"sk-parallel-item\"><div class=\"sk-item\"><div class=\"sk-label-container\"><div class=\"sk-label sk-toggleable\"><input class=\"sk-toggleable__control sk-hidden--visually\" id=\"sk-estimator-id-20\" type=\"checkbox\" ><label for=\"sk-estimator-id-20\" class=\"sk-toggleable__label sk-toggleable__label-arrow\">cat</label><div class=\"sk-toggleable__content\"><pre>[&#x27;payment_type&#x27;, &#x27;employment_status&#x27;, &#x27;housing_status&#x27;, &#x27;source&#x27;, &#x27;device_os&#x27;]</pre></div></div></div><div class=\"sk-serial\"><div class=\"sk-item\"><div class=\"sk-estimator sk-toggleable\"><input class=\"sk-toggleable__control sk-hidden--visually\" id=\"sk-estimator-id-21\" type=\"checkbox\" ><label for=\"sk-estimator-id-21\" class=\"sk-toggleable__label sk-toggleable__label-arrow\">OneHotEncoder</label><div class=\"sk-toggleable__content\"><pre>OneHotEncoder(handle_unknown=&#x27;ignore&#x27;)</pre></div></div></div></div></div></div><div class=\"sk-parallel-item\"><div class=\"sk-item\"><div class=\"sk-label-container\"><div class=\"sk-label sk-toggleable\"><input class=\"sk-toggleable__control sk-hidden--visually\" id=\"sk-estimator-id-22\" type=\"checkbox\" ><label for=\"sk-estimator-id-22\" class=\"sk-toggleable__label sk-toggleable__label-arrow\">remainder</label><div class=\"sk-toggleable__content\"><pre></pre></div></div></div><div class=\"sk-serial\"><div class=\"sk-item\"><div class=\"sk-estimator sk-toggleable\"><input class=\"sk-toggleable__control sk-hidden--visually\" id=\"sk-estimator-id-23\" type=\"checkbox\" ><label for=\"sk-estimator-id-23\" class=\"sk-toggleable__label sk-toggleable__label-arrow\">passthrough</label><div class=\"sk-toggleable__content\"><pre>passthrough</pre></div></div></div></div></div></div></div></div><div class=\"sk-item\"><div class=\"sk-estimator sk-toggleable\"><input class=\"sk-toggleable__control sk-hidden--visually\" id=\"sk-estimator-id-24\" type=\"checkbox\" ><label for=\"sk-estimator-id-24\" class=\"sk-toggleable__label sk-toggleable__label-arrow\">XGBClassifier</label><div class=\"sk-toggleable__content\"><pre>XGBClassifier(base_score=None, booster=None, callbacks=None,\n",
       "              colsample_bylevel=None, colsample_bynode=None,\n",
       "              colsample_bytree=None, device=None, early_stopping_rounds=None,\n",
       "              enable_categorical=False, eval_metric=None, feature_types=None,\n",
       "              gamma=None, grow_policy=None, importance_type=None,\n",
       "              interaction_constraints=None, learning_rate=None, max_bin=None,\n",
       "              max_cat_threshold=None, max_cat_to_onehot=None,\n",
       "              max_delta_step=None, max_depth=None, max_leaves=None,\n",
       "              min_child_weight=None, missing=nan, monotone_constraints=None,\n",
       "              multi_strategy=None, n_estimators=100, n_jobs=None,\n",
       "              num_parallel_tree=None, random_state=None, ...)</pre></div></div></div></div></div></div></div></div></div></div></div></div>"
      ],
      "text/plain": [
       "GridSearchCV(cv=StratifiedKFold(n_splits=5, random_state=23, shuffle=True),\n",
       "             error_score='raise',\n",
       "             estimator=Pipeline(steps=[('preprocessor',\n",
       "                                        ColumnTransformer(remainder='passthrough',\n",
       "                                                          transformers=[('cat',\n",
       "                                                                         OneHotEncoder(handle_unknown='ignore'),\n",
       "                                                                         ['payment_type',\n",
       "                                                                          'employment_status',\n",
       "                                                                          'housing_status',\n",
       "                                                                          'source',\n",
       "                                                                          'device_os'])])),\n",
       "                                       ('xgb',\n",
       "                                        XGBClassifier(base_score=No...\n",
       "                                                      max_cat_threshold=None,\n",
       "                                                      max_cat_to_onehot=None,\n",
       "                                                      max_delta_step=None,\n",
       "                                                      max_depth=None,\n",
       "                                                      max_leaves=None,\n",
       "                                                      min_child_weight=None,\n",
       "                                                      missing=nan,\n",
       "                                                      monotone_constraints=None,\n",
       "                                                      multi_strategy=None,\n",
       "                                                      n_estimators=100,\n",
       "                                                      n_jobs=None,\n",
       "                                                      num_parallel_tree=None,\n",
       "                                                      random_state=None, ...))]),\n",
       "             param_grid={'xgb__learning_rate': [0.01, 0.5, 0.1],\n",
       "                         'xgb__max_depth': [7, 9, 11]},\n",
       "             return_train_score=True, scoring='roc_auc')"
      ]
     },
     "execution_count": 21,
     "metadata": {},
     "output_type": "execute_result"
    }
   ],
   "source": [
    "xgb_gs.fit(X_train, y_train)"
   ]
  },
  {
   "cell_type": "code",
   "execution_count": 22,
   "id": "aab9b4f3",
   "metadata": {},
   "outputs": [
    {
     "name": "stdout",
     "output_type": "stream",
     "text": [
      "Best params:\n",
      "{'xgb__learning_rate': 0.1, 'xgb__max_depth': 7}\n",
      "ROC-AUC: 0.8936495382934906\n"
     ]
    }
   ],
   "source": [
    "print(\"Best params:\\n{}\".format(xgb_gs.best_params_))\n",
    "\n",
    "print(\"ROC-AUC: {}\".format(xgb_gs.best_score_))"
   ]
  },
  {
   "cell_type": "markdown",
   "id": "55c72c81",
   "metadata": {},
   "source": [
    "## Build Classification Model Using Best Estimator\n",
    "The model with the highest performance was XGBoost, with a ROC-AUC of 0.89., so this is the model I decided on for the final model.\n",
    "\n",
    "Instead of running another grid search, I used Bayesian Optimization, which is another method for finding optimal parameters. It essentially takes a sample of parameters based on a search space and builds a surrogate objective function that mimics the results of a grid search. I chose this method because I wanted to optimize more parameters and Bayesian Optimization is much more efficient than a grid search, especially when we have a large dataset.\n",
    "\n",
    "After finding the optimal parameters, we fit the final model on the entire training data using those parameters."
   ]
  },
  {
   "cell_type": "markdown",
   "id": "7dc54486",
   "metadata": {},
   "source": [
    "#### Bayesian Optimization\n",
    "+ Must run `pip install hyperopt` in command prompt"
   ]
  },
  {
   "cell_type": "code",
   "execution_count": 23,
   "id": "e0d23f68",
   "metadata": {},
   "outputs": [
    {
     "name": "stdout",
     "output_type": "stream",
     "text": [
      "100%|███████████████████████████████████████████████| 50/50 [01:03<00:00,  1.27s/trial, best loss: -0.8991853674198325]\n"
     ]
    }
   ],
   "source": [
    "from hyperopt import fmin, tpe, hp, STATUS_OK, Trials\n",
    "from sklearn.model_selection import cross_val_score\n",
    "\n",
    "# create search space\n",
    "space = {\n",
    "    'max_depth': hp.choice('max_depth', range(1, 8)),\n",
    "    'learning_rate': hp.loguniform('learning_rate', np.log(0.01), np.log(0.2)),\n",
    "    'subsample': hp.uniform('subsample', 0.5, 1),\n",
    "    'colsample_bytree': hp.uniform('colsample_bytree', 0.5, 1)\n",
    "}\n",
    "\n",
    "# define objective function\n",
    "def objective(params):\n",
    "    \n",
    "    preprocessor = ColumnTransformer(\n",
    "        transformers=[\n",
    "            ('cat', OneHotEncoder(handle_unknown='ignore'), cat_columns)\n",
    "        ],\n",
    "        remainder='passthrough'\n",
    "    )\n",
    "\n",
    "    xgb = Pipeline([\n",
    "        ('preprocessor', preprocessor),\n",
    "        ('xgb', XGBClassifier(\n",
    "            max_depth=params['max_depth'],\n",
    "            learning_rate=params['learning_rate'],\n",
    "            subsample=params['subsample'],\n",
    "            colsample_bytree=params['colsample_bytree'],\n",
    "            objective='binary:logistic',\n",
    "            eval_metric='auc',\n",
    "            use_label_encoder=False,\n",
    "        ))\n",
    "    ])\n",
    "    \n",
    "    skf = StratifiedKFold(n_splits=5, shuffle=True, random_state=23)\n",
    "\n",
    "    auc_scores = cross_val_score(xgb, X_train, y_train, cv=skf, scoring='roc_auc')\n",
    "    auc_avg = np.mean(auc_scores)\n",
    "    \n",
    "    return {'loss': -auc_avg, 'status': STATUS_OK}\n",
    "\n",
    "best = fmin(fn=objective, space=space, algo=tpe.suggest, max_evals=50, trials=Trials())"
   ]
  },
  {
   "cell_type": "code",
   "execution_count": 24,
   "id": "12dd875b",
   "metadata": {},
   "outputs": [],
   "source": [
    "# create new param grid using outputs from bayesian optimization\n",
    "params = {'max_depth': best['max_depth'],\n",
    "         'learning_rate': best['learning_rate'],\n",
    "         'subsample': best['subsample'],\n",
    "         'colsample_bytree': best['colsample_bytree'],\n",
    "         'n_estimators': 100\n",
    "         }"
   ]
  },
  {
   "cell_type": "code",
   "execution_count": 25,
   "id": "83143a0e",
   "metadata": {},
   "outputs": [
    {
     "data": {
      "text/html": [
       "<style>#sk-container-id-4 {color: black;}#sk-container-id-4 pre{padding: 0;}#sk-container-id-4 div.sk-toggleable {background-color: white;}#sk-container-id-4 label.sk-toggleable__label {cursor: pointer;display: block;width: 100%;margin-bottom: 0;padding: 0.3em;box-sizing: border-box;text-align: center;}#sk-container-id-4 label.sk-toggleable__label-arrow:before {content: \"▸\";float: left;margin-right: 0.25em;color: #696969;}#sk-container-id-4 label.sk-toggleable__label-arrow:hover:before {color: black;}#sk-container-id-4 div.sk-estimator:hover label.sk-toggleable__label-arrow:before {color: black;}#sk-container-id-4 div.sk-toggleable__content {max-height: 0;max-width: 0;overflow: hidden;text-align: left;background-color: #f0f8ff;}#sk-container-id-4 div.sk-toggleable__content pre {margin: 0.2em;color: black;border-radius: 0.25em;background-color: #f0f8ff;}#sk-container-id-4 input.sk-toggleable__control:checked~div.sk-toggleable__content {max-height: 200px;max-width: 100%;overflow: auto;}#sk-container-id-4 input.sk-toggleable__control:checked~label.sk-toggleable__label-arrow:before {content: \"▾\";}#sk-container-id-4 div.sk-estimator input.sk-toggleable__control:checked~label.sk-toggleable__label {background-color: #d4ebff;}#sk-container-id-4 div.sk-label input.sk-toggleable__control:checked~label.sk-toggleable__label {background-color: #d4ebff;}#sk-container-id-4 input.sk-hidden--visually {border: 0;clip: rect(1px 1px 1px 1px);clip: rect(1px, 1px, 1px, 1px);height: 1px;margin: -1px;overflow: hidden;padding: 0;position: absolute;width: 1px;}#sk-container-id-4 div.sk-estimator {font-family: monospace;background-color: #f0f8ff;border: 1px dotted black;border-radius: 0.25em;box-sizing: border-box;margin-bottom: 0.5em;}#sk-container-id-4 div.sk-estimator:hover {background-color: #d4ebff;}#sk-container-id-4 div.sk-parallel-item::after {content: \"\";width: 100%;border-bottom: 1px solid gray;flex-grow: 1;}#sk-container-id-4 div.sk-label:hover label.sk-toggleable__label {background-color: #d4ebff;}#sk-container-id-4 div.sk-serial::before {content: \"\";position: absolute;border-left: 1px solid gray;box-sizing: border-box;top: 0;bottom: 0;left: 50%;z-index: 0;}#sk-container-id-4 div.sk-serial {display: flex;flex-direction: column;align-items: center;background-color: white;padding-right: 0.2em;padding-left: 0.2em;position: relative;}#sk-container-id-4 div.sk-item {position: relative;z-index: 1;}#sk-container-id-4 div.sk-parallel {display: flex;align-items: stretch;justify-content: center;background-color: white;position: relative;}#sk-container-id-4 div.sk-item::before, #sk-container-id-4 div.sk-parallel-item::before {content: \"\";position: absolute;border-left: 1px solid gray;box-sizing: border-box;top: 0;bottom: 0;left: 50%;z-index: -1;}#sk-container-id-4 div.sk-parallel-item {display: flex;flex-direction: column;z-index: 1;position: relative;background-color: white;}#sk-container-id-4 div.sk-parallel-item:first-child::after {align-self: flex-end;width: 50%;}#sk-container-id-4 div.sk-parallel-item:last-child::after {align-self: flex-start;width: 50%;}#sk-container-id-4 div.sk-parallel-item:only-child::after {width: 0;}#sk-container-id-4 div.sk-dashed-wrapped {border: 1px dashed gray;margin: 0 0.4em 0.5em 0.4em;box-sizing: border-box;padding-bottom: 0.4em;background-color: white;}#sk-container-id-4 div.sk-label label {font-family: monospace;font-weight: bold;display: inline-block;line-height: 1.2em;}#sk-container-id-4 div.sk-label-container {text-align: center;}#sk-container-id-4 div.sk-container {/* jupyter's `normalize.less` sets `[hidden] { display: none; }` but bootstrap.min.css set `[hidden] { display: none !important; }` so we also need the `!important` here to be able to override the default hidden behavior on the sphinx rendered scikit-learn.org. See: https://github.com/scikit-learn/scikit-learn/issues/21755 */display: inline-block !important;position: relative;}#sk-container-id-4 div.sk-text-repr-fallback {display: none;}</style><div id=\"sk-container-id-4\" class=\"sk-top-container\"><div class=\"sk-text-repr-fallback\"><pre>Pipeline(steps=[(&#x27;preprocessor&#x27;,\n",
       "                 ColumnTransformer(remainder=&#x27;passthrough&#x27;,\n",
       "                                   transformers=[(&#x27;cat&#x27;,\n",
       "                                                  OneHotEncoder(handle_unknown=&#x27;ignore&#x27;),\n",
       "                                                  [&#x27;payment_type&#x27;,\n",
       "                                                   &#x27;employment_status&#x27;,\n",
       "                                                   &#x27;housing_status&#x27;, &#x27;source&#x27;,\n",
       "                                                   &#x27;device_os&#x27;])])),\n",
       "                (&#x27;xgb&#x27;,\n",
       "                 XGBClassifier(base_score=None, booster=None, callbacks=None,\n",
       "                               colsample_bylevel=None, colsample_bynode=None,\n",
       "                               colsample_bytree=0.51641730...\n",
       "                               feature_types=None, gamma=None, grow_policy=None,\n",
       "                               importance_type=None,\n",
       "                               interaction_constraints=None,\n",
       "                               learning_rate=0.1337834838234423, max_bin=None,\n",
       "                               max_cat_threshold=None, max_cat_to_onehot=None,\n",
       "                               max_delta_step=None, max_depth=4,\n",
       "                               max_leaves=None, min_child_weight=None,\n",
       "                               missing=nan, monotone_constraints=None,\n",
       "                               multi_strategy=None, n_estimators=100,\n",
       "                               n_jobs=None, num_parallel_tree=None,\n",
       "                               random_state=None, ...))])</pre><b>In a Jupyter environment, please rerun this cell to show the HTML representation or trust the notebook. <br />On GitHub, the HTML representation is unable to render, please try loading this page with nbviewer.org.</b></div><div class=\"sk-container\" hidden><div class=\"sk-item sk-dashed-wrapped\"><div class=\"sk-label-container\"><div class=\"sk-label sk-toggleable\"><input class=\"sk-toggleable__control sk-hidden--visually\" id=\"sk-estimator-id-25\" type=\"checkbox\" ><label for=\"sk-estimator-id-25\" class=\"sk-toggleable__label sk-toggleable__label-arrow\">Pipeline</label><div class=\"sk-toggleable__content\"><pre>Pipeline(steps=[(&#x27;preprocessor&#x27;,\n",
       "                 ColumnTransformer(remainder=&#x27;passthrough&#x27;,\n",
       "                                   transformers=[(&#x27;cat&#x27;,\n",
       "                                                  OneHotEncoder(handle_unknown=&#x27;ignore&#x27;),\n",
       "                                                  [&#x27;payment_type&#x27;,\n",
       "                                                   &#x27;employment_status&#x27;,\n",
       "                                                   &#x27;housing_status&#x27;, &#x27;source&#x27;,\n",
       "                                                   &#x27;device_os&#x27;])])),\n",
       "                (&#x27;xgb&#x27;,\n",
       "                 XGBClassifier(base_score=None, booster=None, callbacks=None,\n",
       "                               colsample_bylevel=None, colsample_bynode=None,\n",
       "                               colsample_bytree=0.51641730...\n",
       "                               feature_types=None, gamma=None, grow_policy=None,\n",
       "                               importance_type=None,\n",
       "                               interaction_constraints=None,\n",
       "                               learning_rate=0.1337834838234423, max_bin=None,\n",
       "                               max_cat_threshold=None, max_cat_to_onehot=None,\n",
       "                               max_delta_step=None, max_depth=4,\n",
       "                               max_leaves=None, min_child_weight=None,\n",
       "                               missing=nan, monotone_constraints=None,\n",
       "                               multi_strategy=None, n_estimators=100,\n",
       "                               n_jobs=None, num_parallel_tree=None,\n",
       "                               random_state=None, ...))])</pre></div></div></div><div class=\"sk-serial\"><div class=\"sk-item sk-dashed-wrapped\"><div class=\"sk-label-container\"><div class=\"sk-label sk-toggleable\"><input class=\"sk-toggleable__control sk-hidden--visually\" id=\"sk-estimator-id-26\" type=\"checkbox\" ><label for=\"sk-estimator-id-26\" class=\"sk-toggleable__label sk-toggleable__label-arrow\">preprocessor: ColumnTransformer</label><div class=\"sk-toggleable__content\"><pre>ColumnTransformer(remainder=&#x27;passthrough&#x27;,\n",
       "                  transformers=[(&#x27;cat&#x27;, OneHotEncoder(handle_unknown=&#x27;ignore&#x27;),\n",
       "                                 [&#x27;payment_type&#x27;, &#x27;employment_status&#x27;,\n",
       "                                  &#x27;housing_status&#x27;, &#x27;source&#x27;, &#x27;device_os&#x27;])])</pre></div></div></div><div class=\"sk-parallel\"><div class=\"sk-parallel-item\"><div class=\"sk-item\"><div class=\"sk-label-container\"><div class=\"sk-label sk-toggleable\"><input class=\"sk-toggleable__control sk-hidden--visually\" id=\"sk-estimator-id-27\" type=\"checkbox\" ><label for=\"sk-estimator-id-27\" class=\"sk-toggleable__label sk-toggleable__label-arrow\">cat</label><div class=\"sk-toggleable__content\"><pre>[&#x27;payment_type&#x27;, &#x27;employment_status&#x27;, &#x27;housing_status&#x27;, &#x27;source&#x27;, &#x27;device_os&#x27;]</pre></div></div></div><div class=\"sk-serial\"><div class=\"sk-item\"><div class=\"sk-estimator sk-toggleable\"><input class=\"sk-toggleable__control sk-hidden--visually\" id=\"sk-estimator-id-28\" type=\"checkbox\" ><label for=\"sk-estimator-id-28\" class=\"sk-toggleable__label sk-toggleable__label-arrow\">OneHotEncoder</label><div class=\"sk-toggleable__content\"><pre>OneHotEncoder(handle_unknown=&#x27;ignore&#x27;)</pre></div></div></div></div></div></div><div class=\"sk-parallel-item\"><div class=\"sk-item\"><div class=\"sk-label-container\"><div class=\"sk-label sk-toggleable\"><input class=\"sk-toggleable__control sk-hidden--visually\" id=\"sk-estimator-id-29\" type=\"checkbox\" ><label for=\"sk-estimator-id-29\" class=\"sk-toggleable__label sk-toggleable__label-arrow\">remainder</label><div class=\"sk-toggleable__content\"><pre>[&#x27;income&#x27;, &#x27;name_email_similarity&#x27;, &#x27;prev_address_months_count&#x27;, &#x27;current_address_months_count&#x27;, &#x27;customer_age&#x27;, &#x27;days_since_request&#x27;, &#x27;intended_balcon_amount&#x27;, &#x27;zip_count_4w&#x27;, &#x27;velocity_6h&#x27;, &#x27;velocity_24h&#x27;, &#x27;velocity_4w&#x27;, &#x27;bank_branch_count_8w&#x27;, &#x27;date_of_birth_distinct_emails_4w&#x27;, &#x27;credit_risk_score&#x27;, &#x27;email_is_free&#x27;, &#x27;phone_home_valid&#x27;, &#x27;phone_mobile_valid&#x27;, &#x27;bank_months_count&#x27;, &#x27;has_other_cards&#x27;, &#x27;proposed_credit_limit&#x27;, &#x27;foreign_request&#x27;, &#x27;session_length_in_minutes&#x27;, &#x27;keep_alive_session&#x27;, &#x27;device_distinct_emails_8w&#x27;, &#x27;device_fraud_count&#x27;, &#x27;month&#x27;]</pre></div></div></div><div class=\"sk-serial\"><div class=\"sk-item\"><div class=\"sk-estimator sk-toggleable\"><input class=\"sk-toggleable__control sk-hidden--visually\" id=\"sk-estimator-id-30\" type=\"checkbox\" ><label for=\"sk-estimator-id-30\" class=\"sk-toggleable__label sk-toggleable__label-arrow\">passthrough</label><div class=\"sk-toggleable__content\"><pre>passthrough</pre></div></div></div></div></div></div></div></div><div class=\"sk-item\"><div class=\"sk-estimator sk-toggleable\"><input class=\"sk-toggleable__control sk-hidden--visually\" id=\"sk-estimator-id-31\" type=\"checkbox\" ><label for=\"sk-estimator-id-31\" class=\"sk-toggleable__label sk-toggleable__label-arrow\">XGBClassifier</label><div class=\"sk-toggleable__content\"><pre>XGBClassifier(base_score=None, booster=None, callbacks=None,\n",
       "              colsample_bylevel=None, colsample_bynode=None,\n",
       "              colsample_bytree=0.5164173030138962, device=None,\n",
       "              early_stopping_rounds=None, enable_categorical=False,\n",
       "              eval_metric=None, feature_types=None, gamma=None,\n",
       "              grow_policy=None, importance_type=None,\n",
       "              interaction_constraints=None, learning_rate=0.1337834838234423,\n",
       "              max_bin=None, max_cat_threshold=None, max_cat_to_onehot=None,\n",
       "              max_delta_step=None, max_depth=4, max_leaves=None,\n",
       "              min_child_weight=None, missing=nan, monotone_constraints=None,\n",
       "              multi_strategy=None, n_estimators=100, n_jobs=None,\n",
       "              num_parallel_tree=None, random_state=None, ...)</pre></div></div></div></div></div></div></div>"
      ],
      "text/plain": [
       "Pipeline(steps=[('preprocessor',\n",
       "                 ColumnTransformer(remainder='passthrough',\n",
       "                                   transformers=[('cat',\n",
       "                                                  OneHotEncoder(handle_unknown='ignore'),\n",
       "                                                  ['payment_type',\n",
       "                                                   'employment_status',\n",
       "                                                   'housing_status', 'source',\n",
       "                                                   'device_os'])])),\n",
       "                ('xgb',\n",
       "                 XGBClassifier(base_score=None, booster=None, callbacks=None,\n",
       "                               colsample_bylevel=None, colsample_bynode=None,\n",
       "                               colsample_bytree=0.51641730...\n",
       "                               feature_types=None, gamma=None, grow_policy=None,\n",
       "                               importance_type=None,\n",
       "                               interaction_constraints=None,\n",
       "                               learning_rate=0.1337834838234423, max_bin=None,\n",
       "                               max_cat_threshold=None, max_cat_to_onehot=None,\n",
       "                               max_delta_step=None, max_depth=4,\n",
       "                               max_leaves=None, min_child_weight=None,\n",
       "                               missing=nan, monotone_constraints=None,\n",
       "                               multi_strategy=None, n_estimators=100,\n",
       "                               n_jobs=None, num_parallel_tree=None,\n",
       "                               random_state=None, ...))])"
      ]
     },
     "execution_count": 25,
     "metadata": {},
     "output_type": "execute_result"
    }
   ],
   "source": [
    "# fit final model\n",
    "preprocessor = ColumnTransformer(\n",
    "    transformers=[\n",
    "        ('cat', OneHotEncoder(handle_unknown='ignore'), cat_columns)\n",
    "    ],\n",
    "    remainder='passthrough'\n",
    ")\n",
    "\n",
    "final = Pipeline([\n",
    "    ('preprocessor', preprocessor),\n",
    "    ('xgb', XGBClassifier(**params))\n",
    "])\n",
    "\n",
    "final.fit(X_train, y_train)"
   ]
  },
  {
   "cell_type": "code",
   "execution_count": 26,
   "id": "536bdeba",
   "metadata": {},
   "outputs": [],
   "source": [
    "# make predictions\n",
    "y_pred = final.predict(X_test)\n",
    "y_pred_proba = final.predict_proba(X_test)[:, 1]"
   ]
  },
  {
   "cell_type": "markdown",
   "id": "66353d05",
   "metadata": {},
   "source": [
    "## Model Output Evaluation\n",
    "To evaluate the final model's performance, and examile the results, we can look at the following metrics:\n",
    "+ Feature Importance\n",
    "    - Used to see which features the model used most to make predictions. Can give insight into trends among those who commit fraud.\n",
    "+ Confusion Matrix\n",
    "    - Shows false positive, true positive, false negative, and true negative rates in a visual manner.\n",
    "+ Accuracy\n",
    "    - % of all observations predicted correctly (true positives and true negatives)\n",
    "+ ROC-AUC\n",
    "    - Evaluates\n",
    "+ F1 Macro\n",
    "    - Harmonious mean of precision and recall. \"Macro\" indicates macro averaged, which takes the average of the f1 score for each class. This is a better metric in our case than regular f1 score due to the class imbalance.\n",
    "    \n",
    "I chose to look at these metrics because we want a mix of metrics, both that evaluate at a specific threshold and evaluate model performance across all thresholds. Additionally, metrics like ROC-AUC and F1 Macro are better metrics to use when the data is imabalanced."
   ]
  },
  {
   "cell_type": "markdown",
   "id": "6da3ff97",
   "metadata": {},
   "source": [
    "#### Feature Importance\n",
    "Feature imporance is one of the most important ways to evaluate a tree-based model, especially in a business setting. This is because we can see the features that were important in the model making decisions, or in theory which features are most impactful in determining whether . Depending on the context of the problem we are solving, this can be much more important than maximizing metrics like accuracy or F1 score. In a lot of business scenarios, **feature importance gives us insight into what decisions to make to solve our problem, and metrics like F1 score give us a sense of how much we should rely on the feature importance to make these decisions.**"
   ]
  },
  {
   "cell_type": "code",
   "execution_count": 27,
   "id": "66cbd479",
   "metadata": {},
   "outputs": [
    {
     "data": {
      "image/png": "[encoded data removed]",
      "text/plain": [
       "<Figure size 1000x800 with 1 Axes>"
      ]
     },
     "metadata": {},
     "output_type": "display_data"
    }
   ],
   "source": [
    "import matplotlib.pyplot as plt\n",
    "from xgboost import plot_importance\n",
    "\n",
    "one_hot_feature_names = final.named_steps['preprocessor'].named_transformers_['cat'].get_feature_names_out(input_features=cat_columns)\n",
    "all_feature_names = list(one_hot_feature_names) + list(X_train.columns.difference(cat_columns))\n",
    "\n",
    "feature_importance = final.named_steps['xgb'].feature_importances_\n",
    "feature_importance_df = pd.DataFrame({'Feature': all_feature_names, 'Importance': feature_importance})\n",
    "feature_importance_df = feature_importance_df.sort_values(by='Importance', ascending=False)\n",
    "\n",
    "# Select only the top 10 features\n",
    "top_10_features = feature_importance_df.head(10)\n",
    "\n",
    "# Plot the top 10 feature importance\n",
    "plt.figure(figsize=(10, 8))\n",
    "plt.barh(top_10_features['Feature'], top_10_features['Importance'])\n",
    "plt.xlabel('Importance Score')\n",
    "plt.ylabel('Feature')\n",
    "plt.title('Top 10 Feature Importance Plot')\n",
    "plt.show()"
   ]
  },
  {
   "cell_type": "markdown",
   "id": "9b6afd8e",
   "metadata": {},
   "source": [
    "#### Confusion Matrix"
   ]
  },
  {
   "cell_type": "code",
   "execution_count": 30,
   "id": "6038cd60",
   "metadata": {
    "scrolled": true
   },
   "outputs": [
    {
     "data": {
      "image/png": "[encoded data removed]",
      "text/plain": [
       "<Figure size 300x300 with 1 Axes>"
      ]
     },
     "metadata": {},
     "output_type": "display_data"
    },
    {
     "name": "stdout",
     "output_type": "stream",
     "text": [
      "              precision    recall  f1-score   support\n",
      "\n",
      "           0       1.00      0.82      0.90    247243\n",
      "           1       0.05      0.80      0.09      2757\n",
      "\n",
      "    accuracy                           0.82    250000\n",
      "   macro avg       0.52      0.81      0.49    250000\n",
      "weighted avg       0.99      0.82      0.89    250000\n",
      "\n"
     ]
    }
   ],
   "source": [
    "from sklearn.metrics import confusion_matrix, classification_report\n",
    "\n",
    "cm = confusion_matrix(y_test, y_pred)\n",
    "\n",
    "plt.figure(figsize=(3, 3))\n",
    "sns.heatmap(cm, annot=True, fmt='d', cmap='Blues', cbar=False)\n",
    "plt.xlabel('Predicted Fraud')\n",
    "plt.ylabel('True Fraud')\n",
    "plt.title('Confusion Matrix')\n",
    "plt.show()\n",
    "\n",
    "print(classification_report(y_test, y_pred))"
   ]
  },
  {
   "cell_type": "code",
   "execution_count": 31,
   "id": "63b2fc6c",
   "metadata": {},
   "outputs": [
    {
     "name": "stdout",
     "output_type": "stream",
     "text": [
      "Accuracy: 0.816452\n",
      "ROC-AUC: 0.8937241407124236\n",
      "F1-Macro: 0.492874093384862\n"
     ]
    }
   ],
   "source": [
    "from sklearn.metrics import f1_score, accuracy_score, roc_auc_score\n",
    "\n",
    "accuracy = accuracy_score(y_test, y_pred)\n",
    "\n",
    "roc_auc = roc_auc_score(y_test, y_pred_proba)\n",
    "\n",
    "f1_macro = f1_score(y_test, y_pred, average='macro')\n",
    "\n",
    "print(f\"Accuracy: {accuracy}\")\n",
    "print(f\"ROC-AUC: {roc_auc}\")\n",
    "print(f\"F1-Macro: {f1_macro}\")"
   ]
  },
  {
   "cell_type": "markdown",
   "id": "d2a07f9f",
   "metadata": {},
   "source": [
    "## Conclusion\n",
    "\n",
    "Overall the model has very solid performance, especially considering the high class imbalance.\n",
    "+ A ROC-AUC score of 0.89 indicates that the model is significantly better at assigning classes than random guessing (ROC-AUC of 0.5)\n",
    "+ According to the confusion matrix, the model correctly predicts 79.8% of all of the instances of fraud."
   ]
  }
 ],
 "metadata": {
  "kernelspec": {
   "display_name": "Python 3 (ipykernel)",
   "language": "python",
   "name": "python3"
  },
  "language_info": {
   "codemirror_mode": {
    "name": "ipython",
    "version": 3
   },
   "file_extension": ".py",
   "mimetype": "text/x-python",
   "name": "python",
   "nbconvert_exporter": "python",
   "pygments_lexer": "ipython3",
   "version": "3.9.17"
  }
 },
 "nbformat": 4,
 "nbformat_minor": 5
}
